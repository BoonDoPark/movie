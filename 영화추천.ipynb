{
 "cells": [
  {
   "cell_type": "markdown",
   "id": "f0ee1bd7",
   "metadata": {},
   "source": [
    "# 영화 추천"
   ]
  },
  {
   "cell_type": "markdown",
   "id": "575ec102",
   "metadata": {},
   "source": [
    "## 데이터 전처리"
   ]
  },
  {
   "cell_type": "code",
   "execution_count": 3,
   "id": "62ef3830",
   "metadata": {},
   "outputs": [],
   "source": [
    "import pandas as pd\n",
    "import matplotlib.pyplot as plt\n",
    "import seaborn as sns\n",
    "import requests\n",
    "import re\n",
    "from bs4 import BeautifulSoup"
   ]
  },
  {
   "cell_type": "code",
   "execution_count": 4,
   "id": "2ea7f5f1",
   "metadata": {},
   "outputs": [
    {
     "name": "stdout",
     "output_type": "stream",
     "text": [
      "<class 'pandas.core.frame.DataFrame'>\n",
      "RangeIndex: 24255 entries, 0 to 24254\n",
      "Data columns (total 5 columns):\n",
      " #   Column  Non-Null Count  Dtype  \n",
      "---  ------  --------------  -----  \n",
      " 0   영화id    24255 non-null  int64  \n",
      " 1   제목      24255 non-null  object \n",
      " 2   장르      24255 non-null  object \n",
      " 3   평점      24255 non-null  float64\n",
      " 4   줄거리     24234 non-null  object \n",
      "dtypes: float64(1), int64(1), object(3)\n",
      "memory usage: 947.6+ KB\n"
     ]
    }
   ],
   "source": [
    "df = pd.read_csv('movie_data.csv')\n",
    "df.info()"
   ]
  },
  {
   "cell_type": "code",
   "execution_count": 5,
   "id": "ea24be8d",
   "metadata": {},
   "outputs": [
    {
     "data": {
      "text/plain": [
       "0"
      ]
     },
     "execution_count": 5,
     "metadata": {},
     "output_type": "execute_result"
    }
   ],
   "source": [
    "df.drop(df.loc[df['평점']==0.00].index, inplace=True)\n",
    "len(df.loc[df['평점']==0.00].index)"
   ]
  },
  {
   "cell_type": "code",
   "execution_count": 6,
   "id": "b958f63e",
   "metadata": {},
   "outputs": [
    {
     "data": {
      "text/plain": [
       "0"
      ]
     },
     "execution_count": 6,
     "metadata": {},
     "output_type": "execute_result"
    }
   ],
   "source": [
    "df.drop(df.loc[df['평점']==10.0].index, inplace=True)\n",
    "len(df.loc[df['평점']==10.0].index)"
   ]
  },
  {
   "cell_type": "code",
   "execution_count": 7,
   "id": "18e36e22",
   "metadata": {},
   "outputs": [
    {
     "data": {
      "text/html": [
       "<div>\n",
       "<style scoped>\n",
       "    .dataframe tbody tr th:only-of-type {\n",
       "        vertical-align: middle;\n",
       "    }\n",
       "\n",
       "    .dataframe tbody tr th {\n",
       "        vertical-align: top;\n",
       "    }\n",
       "\n",
       "    .dataframe thead th {\n",
       "        text-align: right;\n",
       "    }\n",
       "</style>\n",
       "<table border=\"1\" class=\"dataframe\">\n",
       "  <thead>\n",
       "    <tr style=\"text-align: right;\">\n",
       "      <th></th>\n",
       "      <th>영화id</th>\n",
       "      <th>제목</th>\n",
       "      <th>장르</th>\n",
       "      <th>평점</th>\n",
       "      <th>줄거리</th>\n",
       "    </tr>\n",
       "  </thead>\n",
       "  <tbody>\n",
       "    <tr>\n",
       "      <th>30</th>\n",
       "      <td>209496</td>\n",
       "      <td>고장난 론</td>\n",
       "      <td>애니메이션</td>\n",
       "      <td>9.32</td>\n",
       "      <td>비봇을 갖는 것이 유일한 소원인 소심한 소년 ‘바니’에게도드디어 ‘론’이라는 비봇이...</td>\n",
       "    </tr>\n",
       "    <tr>\n",
       "      <th>31</th>\n",
       "      <td>191637</td>\n",
       "      <td>고질라 VS. 콩</td>\n",
       "      <td>액션</td>\n",
       "      <td>8.18</td>\n",
       "      <td>거대 몬스터들의 습격을 받은 지 3년 후, 콩은 스컬 아일랜드를 떠나 인간들의 보호...</td>\n",
       "    </tr>\n",
       "    <tr>\n",
       "      <th>32</th>\n",
       "      <td>197491</td>\n",
       "      <td>골든맨</td>\n",
       "      <td>범죄</td>\n",
       "      <td>6.57</td>\n",
       "      <td>지긋지긋한 생활에서 벗어나 한탕만을 노리는 우체국 운전사 ‘메로니’가난의 늪에 허덕...</td>\n",
       "    </tr>\n",
       "    <tr>\n",
       "      <th>33</th>\n",
       "      <td>206177</td>\n",
       "      <td>공작조: 현애지상</td>\n",
       "      <td>범죄</td>\n",
       "      <td>5.91</td>\n",
       "      <td>냉전이 감도는 1931년 중국, 소련에서 훈련을 받고 돌아온 4명의 특수요원은작전명...</td>\n",
       "    </tr>\n",
       "    <tr>\n",
       "      <th>34</th>\n",
       "      <td>191267</td>\n",
       "      <td>관계의 가나다에 있는 우리는</td>\n",
       "      <td>드라마</td>\n",
       "      <td>8.25</td>\n",
       "      <td>언제나 잔고 제로인 미생 ‘민규’.어린 시절 캐나다로 피겨 유학을 떠났다가 은퇴를 ...</td>\n",
       "    </tr>\n",
       "    <tr>\n",
       "      <th>35</th>\n",
       "      <td>205629</td>\n",
       "      <td>괴기맨숀</td>\n",
       "      <td>공포</td>\n",
       "      <td>6.06</td>\n",
       "      <td>공포 웹툰 작가 지우는 아이디어를 찾아 괴기맨숀이라 불리는 허름한 아파트에 도착한다...</td>\n",
       "    </tr>\n",
       "    <tr>\n",
       "      <th>36</th>\n",
       "      <td>191887</td>\n",
       "      <td>구독좋아요알림설정</td>\n",
       "      <td>코미디</td>\n",
       "      <td>7.25</td>\n",
       "      <td>‘커트의 세상’을 운영하는 10년차 듣보 크리에이터 ‘커트’(조 키어리)는100만 ...</td>\n",
       "    </tr>\n",
       "    <tr>\n",
       "      <th>37</th>\n",
       "      <td>200183</td>\n",
       "      <td>구라, 베토벤</td>\n",
       "      <td>한국</td>\n",
       "      <td>8.39</td>\n",
       "      <td>어렸을 때 부터 욱해도 소심해서 표현도 못하던 서정우 감독 캐릭터.욱해도 표현도 못...</td>\n",
       "    </tr>\n",
       "    <tr>\n",
       "      <th>38</th>\n",
       "      <td>190012</td>\n",
       "      <td>구원</td>\n",
       "      <td>스릴러</td>\n",
       "      <td>6.97</td>\n",
       "      <td>깊은 어둠이 드리워진 그곳… 심장도 얼어붙을 만큼 추운 겨울, 밀양호에서 진숙의 시...</td>\n",
       "    </tr>\n",
       "    <tr>\n",
       "      <th>39</th>\n",
       "      <td>202086</td>\n",
       "      <td>굴뚝마을의 푸펠</td>\n",
       "      <td>애니메이션</td>\n",
       "      <td>8.92</td>\n",
       "      <td>새까만 연기로 뒤덮인 굴뚝마을에서는1. 하늘을 올려다보지 말 것2. 꿈을 믿지 말 ...</td>\n",
       "    </tr>\n",
       "  </tbody>\n",
       "</table>\n",
       "</div>"
      ],
      "text/plain": [
       "      영화id               제목     장르    평점  \\\n",
       "30  209496            고장난 론  애니메이션  9.32   \n",
       "31  191637        고질라 VS. 콩     액션  8.18   \n",
       "32  197491              골든맨     범죄  6.57   \n",
       "33  206177        공작조: 현애지상     범죄  5.91   \n",
       "34  191267  관계의 가나다에 있는 우리는    드라마  8.25   \n",
       "35  205629             괴기맨숀     공포  6.06   \n",
       "36  191887        구독좋아요알림설정    코미디  7.25   \n",
       "37  200183          구라, 베토벤     한국  8.39   \n",
       "38  190012               구원    스릴러  6.97   \n",
       "39  202086         굴뚝마을의 푸펠  애니메이션  8.92   \n",
       "\n",
       "                                                  줄거리  \n",
       "30  비봇을 갖는 것이 유일한 소원인 소심한 소년 ‘바니’에게도드디어 ‘론’이라는 비봇이...  \n",
       "31  거대 몬스터들의 습격을 받은 지 3년 후, 콩은 스컬 아일랜드를 떠나 인간들의 보호...  \n",
       "32  지긋지긋한 생활에서 벗어나 한탕만을 노리는 우체국 운전사 ‘메로니’가난의 늪에 허덕...  \n",
       "33  냉전이 감도는 1931년 중국, 소련에서 훈련을 받고 돌아온 4명의 특수요원은작전명...  \n",
       "34  언제나 잔고 제로인 미생 ‘민규’.어린 시절 캐나다로 피겨 유학을 떠났다가 은퇴를 ...  \n",
       "35  공포 웹툰 작가 지우는 아이디어를 찾아 괴기맨숀이라 불리는 허름한 아파트에 도착한다...  \n",
       "36  ‘커트의 세상’을 운영하는 10년차 듣보 크리에이터 ‘커트’(조 키어리)는100만 ...  \n",
       "37  어렸을 때 부터 욱해도 소심해서 표현도 못하던 서정우 감독 캐릭터.욱해도 표현도 못...  \n",
       "38  깊은 어둠이 드리워진 그곳… 심장도 얼어붙을 만큼 추운 겨울, 밀양호에서 진숙의 시...  \n",
       "39  새까만 연기로 뒤덮인 굴뚝마을에서는1. 하늘을 올려다보지 말 것2. 꿈을 믿지 말 ...  "
      ]
     },
     "execution_count": 7,
     "metadata": {},
     "output_type": "execute_result"
    }
   ],
   "source": [
    "df = df.reset_index()\n",
    "df = df.drop(columns=['index'])\n",
    "df[30:40]"
   ]
  },
  {
   "cell_type": "code",
   "execution_count": 8,
   "id": "803be438",
   "metadata": {},
   "outputs": [],
   "source": [
    "# df['줄거리'].nunique(), df['평점'].nunique()"
   ]
  },
  {
   "cell_type": "code",
   "execution_count": 9,
   "id": "4e65feac",
   "metadata": {},
   "outputs": [],
   "source": [
    "# df.drop_duplicates(subset=['제목'], inplace=True)"
   ]
  },
  {
   "cell_type": "code",
   "execution_count": 10,
   "id": "224f96c6",
   "metadata": {},
   "outputs": [],
   "source": [
    "# len(df)"
   ]
  },
  {
   "cell_type": "code",
   "execution_count": 11,
   "id": "f19699e4",
   "metadata": {},
   "outputs": [
    {
     "data": {
      "text/html": [
       "<div>\n",
       "<style scoped>\n",
       "    .dataframe tbody tr th:only-of-type {\n",
       "        vertical-align: middle;\n",
       "    }\n",
       "\n",
       "    .dataframe tbody tr th {\n",
       "        vertical-align: top;\n",
       "    }\n",
       "\n",
       "    .dataframe thead th {\n",
       "        text-align: right;\n",
       "    }\n",
       "</style>\n",
       "<table border=\"1\" class=\"dataframe\">\n",
       "  <thead>\n",
       "    <tr style=\"text-align: right;\">\n",
       "      <th></th>\n",
       "      <th>영화id</th>\n",
       "      <th>제목</th>\n",
       "      <th>장르</th>\n",
       "      <th>평점</th>\n",
       "      <th>줄거리</th>\n",
       "    </tr>\n",
       "  </thead>\n",
       "  <tbody>\n",
       "  </tbody>\n",
       "</table>\n",
       "</div>"
      ],
      "text/plain": [
       "Empty DataFrame\n",
       "Columns: [영화id, 제목, 장르, 평점, 줄거리]\n",
       "Index: []"
      ]
     },
     "execution_count": 11,
     "metadata": {},
     "output_type": "execute_result"
    }
   ],
   "source": [
    "df.loc[df.제목.isnull()]"
   ]
  },
  {
   "cell_type": "code",
   "execution_count": 12,
   "id": "f5542579",
   "metadata": {},
   "outputs": [],
   "source": [
    "df = df.dropna(how='any')"
   ]
  },
  {
   "cell_type": "code",
   "execution_count": 13,
   "id": "01a208a4",
   "metadata": {},
   "outputs": [
    {
     "name": "stderr",
     "output_type": "stream",
     "text": [
      "<ipython-input-13-4255e0998170>:1: FutureWarning: The default value of regex will change from True to False in a future version.\n",
      "  df['줄거리'] = df['줄거리'].str.replace(\"[^ㄱ-ㅎㅏ-ㅣ가-힣 ]\",\"\")\n"
     ]
    }
   ],
   "source": [
    "df['줄거리'] = df['줄거리'].str.replace(\"[^ㄱ-ㅎㅏ-ㅣ가-힣 ]\",\"\")\n",
    "df = df.reset_index()"
   ]
  },
  {
   "cell_type": "code",
   "execution_count": 14,
   "id": "fdd1cba8",
   "metadata": {},
   "outputs": [
    {
     "data": {
      "text/plain": [
       "18739"
      ]
     },
     "execution_count": 14,
     "metadata": {},
     "output_type": "execute_result"
    }
   ],
   "source": [
    "df = df.drop(columns=['index'])\n",
    "len(df['영화id'])"
   ]
  },
  {
   "cell_type": "code",
   "execution_count": 15,
   "id": "217894d0",
   "metadata": {},
   "outputs": [
    {
     "data": {
      "text/plain": [
       "18739"
      ]
     },
     "execution_count": 15,
     "metadata": {},
     "output_type": "execute_result"
    }
   ],
   "source": [
    "len(df['영화id'])"
   ]
  },
  {
   "cell_type": "markdown",
   "id": "5a6db112",
   "metadata": {},
   "source": [
    "## 영화 평점 10점과 0점을 제외해야 하는 이유"
   ]
  },
  {
   "cell_type": "code",
   "execution_count": 16,
   "id": "adc2f167",
   "metadata": {},
   "outputs": [],
   "source": [
    "df2 = pd.read_csv('movie_data.csv')"
   ]
  },
  {
   "cell_type": "code",
   "execution_count": 17,
   "id": "dad0367c",
   "metadata": {},
   "outputs": [],
   "source": [
    "df2['평점'] = df2['평점'].astype(int)"
   ]
  },
  {
   "cell_type": "code",
   "execution_count": 18,
   "id": "1261aadd",
   "metadata": {},
   "outputs": [],
   "source": [
    "from matplotlib import font_manager, rc"
   ]
  },
  {
   "cell_type": "code",
   "execution_count": 19,
   "id": "4a9e92cc",
   "metadata": {},
   "outputs": [],
   "source": [
    "font_test = 'c:/Windows/Fonts/malgun.ttf'\n",
    "font_name = font_manager.FontProperties(fname=font_test).get_name()\n",
    "rc('font', family=font_name)"
   ]
  },
  {
   "cell_type": "code",
   "execution_count": 20,
   "id": "3f328972",
   "metadata": {
    "scrolled": true
   },
   "outputs": [
    {
     "name": "stderr",
     "output_type": "stream",
     "text": [
      "C:\\Users\\qwe\\anaconda3\\lib\\site-packages\\seaborn\\_decorators.py:36: FutureWarning: Pass the following variable as a keyword arg: x. From version 0.12, the only valid positional argument will be `data`, and passing other arguments without an explicit keyword will result in an error or misinterpretation.\n",
      "  warnings.warn(\n"
     ]
    },
    {
     "data": {
      "text/plain": [
       "<AxesSubplot:xlabel='평점', ylabel='count'>"
      ]
     },
     "execution_count": 20,
     "metadata": {},
     "output_type": "execute_result"
    },
    {
     "data": {
      "image/png": "[encoded data removed]",
      "text/plain": [
       "<Figure size 864x360 with 1 Axes>"
      ]
     },
     "metadata": {
      "needs_background": "light"
     },
     "output_type": "display_data"
    }
   ],
   "source": [
    "# 평점 0이 많은걸 확인할 수 있다.\n",
    "\n",
    "fig, axe = plt.subplots(ncols=1)\n",
    "fig.set_size_inches(12,5)\n",
    "sns.countplot(df2['평점'])"
   ]
  },
  {
   "cell_type": "markdown",
   "id": "cbaedcd0",
   "metadata": {},
   "source": [
    "# 영화추천 머신러닝"
   ]
  },
  {
   "cell_type": "code",
   "execution_count": 21,
   "id": "fc88c816",
   "metadata": {},
   "outputs": [],
   "source": [
    "x_train = df['장르']\n",
    "y_train = df['평점']"
   ]
  },
  {
   "cell_type": "code",
   "execution_count": 22,
   "id": "bd4a5ccf",
   "metadata": {},
   "outputs": [],
   "source": [
    "import numpy as np\n",
    "from sklearn.feature_extraction.text import CountVectorizer\n",
    "from sklearn.metrics.pairwise import cosine_similarity"
   ]
  },
  {
   "cell_type": "code",
   "execution_count": 23,
   "id": "32bbecca",
   "metadata": {},
   "outputs": [
    {
     "name": "stdout",
     "output_type": "stream",
     "text": [
      "['2008', '2013', '2014', '2015', 'sf', 'tv영화', '가족', '공연실황', '공포', '공화국', '그리스', '남아프리카', '노르웨이', '느와르', '다큐멘터리', '대만', '덴마크', '독일', '드라마', '러시아', '로맨스', '멕시코', '멜로', '모험', '몽골', '무협', '뮤지컬', '미국', '미스터리', '범죄', '벨기에', '부탄', '블랙코미디', '서독', '서부', '서사', '서스펜스', '소련', '스릴러', '스페인', '실험', '아르헨티나', '아일랜드', '애니메이션', '액션', '에로', '연방', '영국', '오스트레일리아', '오스트리아', '우즈베키스탄', '웹무비', '이란', '이탈리아', '인도', '일본', '전쟁', '중국', '체코', '캐나다', '컬트', '코미디', '쿠바', '태국', '판타지', '프랑스', '핀란드', '한국', '헝가리', '홍콩']\n"
     ]
    }
   ],
   "source": [
    "vectorizer = CountVectorizer()\n",
    "x = vectorizer.fit_transform(x_train)\n",
    "print(vectorizer.get_feature_names())\n",
    "# vectorizer.vocabulary_"
   ]
  },
  {
   "cell_type": "code",
   "execution_count": 24,
   "id": "aabca46a",
   "metadata": {},
   "outputs": [
    {
     "data": {
      "text/plain": [
       "array([[1., 0., 0., ..., 0., 0., 0.],\n",
       "       [0., 1., 0., ..., 1., 0., 0.],\n",
       "       [0., 0., 1., ..., 0., 1., 0.],\n",
       "       ...,\n",
       "       [0., 1., 0., ..., 1., 0., 0.],\n",
       "       [0., 0., 1., ..., 0., 1., 0.],\n",
       "       [0., 0., 0., ..., 0., 0., 1.]])"
      ]
     },
     "execution_count": 24,
     "metadata": {},
     "output_type": "execute_result"
    }
   ],
   "source": [
    "similarity = cosine_similarity(x, x)\n",
    "similarity"
   ]
  },
  {
   "cell_type": "code",
   "execution_count": 25,
   "id": "eadd2505",
   "metadata": {},
   "outputs": [
    {
     "data": {
      "text/plain": [
       "array([[ 9369, 11991, 11992, ..., 16561, 16527,     0],\n",
       "       [    0, 12353, 12354, ..., 12804, 11079,  5539],\n",
       "       [    0, 11493, 11495, ...,  3199, 10040,  9369],\n",
       "       ...,\n",
       "       [    0, 12353, 12354, ..., 12804, 11079,  5539],\n",
       "       [    0, 11493, 11495, ...,  3199, 10040,  9369],\n",
       "       [    0, 12476, 12475, ...,   191, 16123, 18738]], dtype=int64)"
      ]
     },
     "execution_count": 25,
     "metadata": {},
     "output_type": "execute_result"
    }
   ],
   "source": [
    "similarity = similarity.argsort()\n",
    "similarity"
   ]
  },
  {
   "cell_type": "code",
   "execution_count": 26,
   "id": "feb65b62",
   "metadata": {},
   "outputs": [
    {
     "data": {
      "text/plain": [
       "array([[    0, 16527, 16561, ..., 11992, 11991,  9369],\n",
       "       [ 5539, 11079, 12804, ..., 12354, 12353,     0],\n",
       "       [ 9369, 10040,  3199, ..., 11495, 11493,     0],\n",
       "       ...,\n",
       "       [ 5539, 11079, 12804, ..., 12354, 12353,     0],\n",
       "       [ 9369, 10040,  3199, ..., 11495, 11493,     0],\n",
       "       [18738, 16123,   191, ..., 12475, 12476,     0]], dtype=int64)"
      ]
     },
     "execution_count": 26,
     "metadata": {},
     "output_type": "execute_result"
    }
   ],
   "source": [
    "similarity = similarity[:, ::-1]\n",
    "similarity"
   ]
  },
  {
   "cell_type": "code",
   "execution_count": 27,
   "id": "c6c06af7",
   "metadata": {},
   "outputs": [
    {
     "data": {
      "text/plain": [
       "(18739, 18739)"
      ]
     },
     "execution_count": 27,
     "metadata": {},
     "output_type": "execute_result"
    }
   ],
   "source": [
    "similarity.shape"
   ]
  },
  {
   "cell_type": "code",
   "execution_count": 28,
   "id": "9e7c7542",
   "metadata": {},
   "outputs": [],
   "source": [
    "def get_recommend_movie(title):\n",
    "    search_genre = df[df['제목'] == title]\n",
    "    search_genre_index = search_genre.index.values\n",
    "    print(search_genre_index)\n",
    "    similarity_index = similarity[search_genre_index, :30].reshape(-1)\n",
    "    print(similarity_index)\n",
    "    similarity_index = similarity_index[similarity_index != search_genre_index]\n",
    "    print(similarity_index)\n",
    "    result = df.iloc[similarity_index].sort_values('평점', ascending=False)[:5]\n",
    "    return result"
   ]
  },
  {
   "cell_type": "markdown",
   "id": "680522e1",
   "metadata": {},
   "source": [
    "- 제목이 중복이 될 경우 오류가 나는 상황 발생"
   ]
  },
  {
   "cell_type": "code",
   "execution_count": 29,
   "id": "5a40d9e2",
   "metadata": {},
   "outputs": [],
   "source": [
    "import random"
   ]
  },
  {
   "cell_type": "code",
   "execution_count": 30,
   "id": "5d9cae0f",
   "metadata": {},
   "outputs": [
    {
     "name": "stdout",
     "output_type": "stream",
     "text": [
      "소림축구\n"
     ]
    }
   ],
   "source": [
    "shuffle = list(df['제목'].values)\n",
    "movie = random.choice(shuffle)\n",
    "print(movie)"
   ]
  },
  {
   "cell_type": "code",
   "execution_count": 31,
   "id": "05e37362",
   "metadata": {},
   "outputs": [
    {
     "name": "stdout",
     "output_type": "stream",
     "text": [
      "[13283]\n",
      "[13338  3715 12244 16897  7295  1754 12241 16891 12239  5754 10422 16886\n",
      " 16885 16879 14710 14714 10438 12246  3684  1742 16931 16940 12272 12271\n",
      " 12270  1719  1720 12267  5741  3704]\n",
      "[13338  3715 12244 16897  7295  1754 12241 16891 12239  5754 10422 16886\n",
      " 16885 16879 14710 14714 10438 12246  3684  1742 16931 16940 12272 12271\n",
      " 12270  1719  1720 12267  5741  3704]\n"
     ]
    },
    {
     "data": {
      "text/html": [
       "<div>\n",
       "<style scoped>\n",
       "    .dataframe tbody tr th:only-of-type {\n",
       "        vertical-align: middle;\n",
       "    }\n",
       "\n",
       "    .dataframe tbody tr th {\n",
       "        vertical-align: top;\n",
       "    }\n",
       "\n",
       "    .dataframe thead th {\n",
       "        text-align: right;\n",
       "    }\n",
       "</style>\n",
       "<table border=\"1\" class=\"dataframe\">\n",
       "  <thead>\n",
       "    <tr style=\"text-align: right;\">\n",
       "      <th></th>\n",
       "      <th>영화id</th>\n",
       "      <th>제목</th>\n",
       "      <th>장르</th>\n",
       "      <th>평점</th>\n",
       "      <th>줄거리</th>\n",
       "    </tr>\n",
       "  </thead>\n",
       "  <tbody>\n",
       "    <tr>\n",
       "      <th>16931</th>\n",
       "      <td>36392</td>\n",
       "      <td>못말리는 번디 가족</td>\n",
       "      <td>코미디</td>\n",
       "      <td>9.64</td>\n",
       "      <td>년부터 년까지 년간 편의 에피소드가 제작된 인기  시리즈</td>\n",
       "    </tr>\n",
       "    <tr>\n",
       "      <th>12239</th>\n",
       "      <td>34194</td>\n",
       "      <td>쾌걸 춘향</td>\n",
       "      <td>코미디</td>\n",
       "      <td>9.23</td>\n",
       "      <td>남원의 대표얼짱 성춘향 불량전학생 이몽룡을 만나다 알바를 위해 광한루 월담을 하던 ...</td>\n",
       "    </tr>\n",
       "    <tr>\n",
       "      <th>16891</th>\n",
       "      <td>11510</td>\n",
       "      <td>마타도르</td>\n",
       "      <td>코미디</td>\n",
       "      <td>9.00</td>\n",
       "      <td>은퇴한 투우사인 디에고 몽테스는 투우사 양성소를 개설하여 제자들을 가르친다 제자 엔...</td>\n",
       "    </tr>\n",
       "    <tr>\n",
       "      <th>1719</th>\n",
       "      <td>167053</td>\n",
       "      <td>업사이드</td>\n",
       "      <td>코미디</td>\n",
       "      <td>8.67</td>\n",
       "      <td>떳떳한 가장이 되기 위해 직장이 필요한 델케빈 하트은시간 케어가 필요한 뉴욕의 주식...</td>\n",
       "    </tr>\n",
       "    <tr>\n",
       "      <th>12241</th>\n",
       "      <td>39576</td>\n",
       "      <td>쿵푸 허슬</td>\n",
       "      <td>코미디</td>\n",
       "      <td>8.67</td>\n",
       "      <td>법보다 도끼가 앞서던 년대 중국 상하이 난세를 틈타 어둠의 세력을 평정한 도끼파의 ...</td>\n",
       "    </tr>\n",
       "  </tbody>\n",
       "</table>\n",
       "</div>"
      ],
      "text/plain": [
       "         영화id          제목   장르    평점  \\\n",
       "16931   36392  못말리는 번디 가족  코미디  9.64   \n",
       "12239   34194       쾌걸 춘향  코미디  9.23   \n",
       "16891   11510        마타도르  코미디  9.00   \n",
       "1719   167053        업사이드  코미디  8.67   \n",
       "12241   39576       쿵푸 허슬  코미디  8.67   \n",
       "\n",
       "                                                     줄거리  \n",
       "16931                    년부터 년까지 년간 편의 에피소드가 제작된 인기  시리즈  \n",
       "12239  남원의 대표얼짱 성춘향 불량전학생 이몽룡을 만나다 알바를 위해 광한루 월담을 하던 ...  \n",
       "16891  은퇴한 투우사인 디에고 몽테스는 투우사 양성소를 개설하여 제자들을 가르친다 제자 엔...  \n",
       "1719   떳떳한 가장이 되기 위해 직장이 필요한 델케빈 하트은시간 케어가 필요한 뉴욕의 주식...  \n",
       "12241  법보다 도끼가 앞서던 년대 중국 상하이 난세를 틈타 어둠의 세력을 평정한 도끼파의 ...  "
      ]
     },
     "execution_count": 31,
     "metadata": {},
     "output_type": "execute_result"
    }
   ],
   "source": [
    "genre_df = get_recommend_movie(movie)\n",
    "genre_df"
   ]
  },
  {
   "cell_type": "markdown",
   "id": "f3241498",
   "metadata": {},
   "source": [
    "# 영화 리뷰 감정분석"
   ]
  },
  {
   "cell_type": "markdown",
   "id": "e08d829f",
   "metadata": {},
   "source": [
    "## 데이터 로드"
   ]
  },
  {
   "cell_type": "markdown",
   "id": "68dbdd85",
   "metadata": {},
   "source": [
    "- 출처 : https://raw.githubusercontent.com/e9t/nsmc/master"
   ]
  },
  {
   "cell_type": "code",
   "execution_count": 30,
   "id": "825ddb0f",
   "metadata": {},
   "outputs": [],
   "source": [
    "import urllib.request"
   ]
  },
  {
   "cell_type": "code",
   "execution_count": 31,
   "id": "a11cae3a",
   "metadata": {},
   "outputs": [
    {
     "data": {
      "text/plain": [
       "('ratings_train.txt', <http.client.HTTPMessage at 0x23eda067b50>)"
      ]
     },
     "execution_count": 31,
     "metadata": {},
     "output_type": "execute_result"
    }
   ],
   "source": [
    "urllib.request.urlretrieve(\"https://raw.githubusercontent.com/e9t/nsmc/master/ratings_train.txt\", filename=\"ratings_train.txt\")"
   ]
  },
  {
   "cell_type": "code",
   "execution_count": 32,
   "id": "610481ea",
   "metadata": {},
   "outputs": [
    {
     "data": {
      "text/html": [
       "<div>\n",
       "<style scoped>\n",
       "    .dataframe tbody tr th:only-of-type {\n",
       "        vertical-align: middle;\n",
       "    }\n",
       "\n",
       "    .dataframe tbody tr th {\n",
       "        vertical-align: top;\n",
       "    }\n",
       "\n",
       "    .dataframe thead th {\n",
       "        text-align: right;\n",
       "    }\n",
       "</style>\n",
       "<table border=\"1\" class=\"dataframe\">\n",
       "  <thead>\n",
       "    <tr style=\"text-align: right;\">\n",
       "      <th></th>\n",
       "      <th>id</th>\n",
       "      <th>review</th>\n",
       "      <th>positive</th>\n",
       "    </tr>\n",
       "  </thead>\n",
       "  <tbody>\n",
       "    <tr>\n",
       "      <th>0</th>\n",
       "      <td>9976970</td>\n",
       "      <td>아 더빙.. 진짜 짜증나네요 목소리</td>\n",
       "      <td>0</td>\n",
       "    </tr>\n",
       "    <tr>\n",
       "      <th>1</th>\n",
       "      <td>3819312</td>\n",
       "      <td>흠...포스터보고 초딩영화줄....오버연기조차 가볍지 않구나</td>\n",
       "      <td>1</td>\n",
       "    </tr>\n",
       "    <tr>\n",
       "      <th>2</th>\n",
       "      <td>10265843</td>\n",
       "      <td>너무재밓었다그래서보는것을추천한다</td>\n",
       "      <td>0</td>\n",
       "    </tr>\n",
       "    <tr>\n",
       "      <th>3</th>\n",
       "      <td>9045019</td>\n",
       "      <td>교도소 이야기구먼 ..솔직히 재미는 없다..평점 조정</td>\n",
       "      <td>0</td>\n",
       "    </tr>\n",
       "    <tr>\n",
       "      <th>4</th>\n",
       "      <td>6483659</td>\n",
       "      <td>사이몬페그의 익살스런 연기가 돋보였던 영화!스파이더맨에서 늙어보이기만 했던 커스틴 ...</td>\n",
       "      <td>1</td>\n",
       "    </tr>\n",
       "    <tr>\n",
       "      <th>...</th>\n",
       "      <td>...</td>\n",
       "      <td>...</td>\n",
       "      <td>...</td>\n",
       "    </tr>\n",
       "    <tr>\n",
       "      <th>149995</th>\n",
       "      <td>6222902</td>\n",
       "      <td>인간이 문제지.. 소는 뭔죄인가..</td>\n",
       "      <td>0</td>\n",
       "    </tr>\n",
       "    <tr>\n",
       "      <th>149996</th>\n",
       "      <td>8549745</td>\n",
       "      <td>평점이 너무 낮아서...</td>\n",
       "      <td>1</td>\n",
       "    </tr>\n",
       "    <tr>\n",
       "      <th>149997</th>\n",
       "      <td>9311800</td>\n",
       "      <td>이게 뭐요? 한국인은 거들먹거리고 필리핀 혼혈은 착하다?</td>\n",
       "      <td>0</td>\n",
       "    </tr>\n",
       "    <tr>\n",
       "      <th>149998</th>\n",
       "      <td>2376369</td>\n",
       "      <td>청춘 영화의 최고봉.방황과 우울했던 날들의 자화상</td>\n",
       "      <td>1</td>\n",
       "    </tr>\n",
       "    <tr>\n",
       "      <th>149999</th>\n",
       "      <td>9619869</td>\n",
       "      <td>한국 영화 최초로 수간하는 내용이 담긴 영화</td>\n",
       "      <td>0</td>\n",
       "    </tr>\n",
       "  </tbody>\n",
       "</table>\n",
       "<p>150000 rows × 3 columns</p>\n",
       "</div>"
      ],
      "text/plain": [
       "              id                                             review  positive\n",
       "0        9976970                                아 더빙.. 진짜 짜증나네요 목소리         0\n",
       "1        3819312                  흠...포스터보고 초딩영화줄....오버연기조차 가볍지 않구나         1\n",
       "2       10265843                                  너무재밓었다그래서보는것을추천한다         0\n",
       "3        9045019                      교도소 이야기구먼 ..솔직히 재미는 없다..평점 조정         0\n",
       "4        6483659  사이몬페그의 익살스런 연기가 돋보였던 영화!스파이더맨에서 늙어보이기만 했던 커스틴 ...         1\n",
       "...          ...                                                ...       ...\n",
       "149995   6222902                                인간이 문제지.. 소는 뭔죄인가..         0\n",
       "149996   8549745                                      평점이 너무 낮아서...         1\n",
       "149997   9311800                    이게 뭐요? 한국인은 거들먹거리고 필리핀 혼혈은 착하다?         0\n",
       "149998   2376369                        청춘 영화의 최고봉.방황과 우울했던 날들의 자화상         1\n",
       "149999   9619869                           한국 영화 최초로 수간하는 내용이 담긴 영화         0\n",
       "\n",
       "[150000 rows x 3 columns]"
      ]
     },
     "execution_count": 32,
     "metadata": {},
     "output_type": "execute_result"
    }
   ],
   "source": [
    "df = pd.read_table('ratings_train.txt')\n",
    "df.to_csv('emotion_analysis.csv', index=False,encoding='utf-8-sig')\n",
    "df = pd.read_csv('emotion_analysis.csv')\n",
    "df = df.rename(columns={'document':'review', 'label':'positive'})\n",
    "df"
   ]
  },
  {
   "cell_type": "markdown",
   "id": "db284588",
   "metadata": {},
   "source": [
    "## 데이터 전처리"
   ]
  },
  {
   "cell_type": "markdown",
   "id": "debc40db",
   "metadata": {},
   "source": [
    "* 중복값 제거"
   ]
  },
  {
   "cell_type": "code",
   "execution_count": 33,
   "id": "32df8e05",
   "metadata": {},
   "outputs": [
    {
     "data": {
      "text/plain": [
       "146183"
      ]
     },
     "execution_count": 33,
     "metadata": {},
     "output_type": "execute_result"
    }
   ],
   "source": [
    "df['review'].nunique(), df['positive'].nunique()\n",
    "df.drop_duplicates(subset=['review'], inplace=True)\n",
    "len(df)"
   ]
  },
  {
   "cell_type": "markdown",
   "id": "0a640327",
   "metadata": {},
   "source": [
    "* Nan값 제거"
   ]
  },
  {
   "cell_type": "code",
   "execution_count": 34,
   "id": "c0086910",
   "metadata": {},
   "outputs": [
    {
     "name": "stderr",
     "output_type": "stream",
     "text": [
      "<ipython-input-34-25cd9cc984da>:3: FutureWarning: The default value of regex will change from True to False in a future version.\n",
      "  df['review'] = df['review'].str.replace(\"[^ㄱ-ㅎㅏ-ㅣ가-힣 ]\",\"\")\n",
      "<ipython-input-34-25cd9cc984da>:3: SettingWithCopyWarning: \n",
      "A value is trying to be set on a copy of a slice from a DataFrame.\n",
      "Try using .loc[row_indexer,col_indexer] = value instead\n",
      "\n",
      "See the caveats in the documentation: https://pandas.pydata.org/pandas-docs/stable/user_guide/indexing.html#returning-a-view-versus-a-copy\n",
      "  df['review'] = df['review'].str.replace(\"[^ㄱ-ㅎㅏ-ㅣ가-힣 ]\",\"\")\n"
     ]
    },
    {
     "data": {
      "text/plain": [
       "0                                         아 더빙 진짜 짜증나네요 목소리\n",
       "1                                흠포스터보고 초딩영화줄오버연기조차 가볍지 않구나\n",
       "2                                         너무재밓었다그래서보는것을추천한다\n",
       "3                                 교도소 이야기구먼 솔직히 재미는 없다평점 조정\n",
       "4         사이몬페그의 익살스런 연기가 돋보였던 영화스파이더맨에서 늙어보이기만 했던 커스틴 던...\n",
       "                                ...                        \n",
       "146177                                      인간이 문제지 소는 뭔죄인가\n",
       "146178                                           평점이 너무 낮아서\n",
       "146179                        이게 뭐요 한국인은 거들먹거리고 필리핀 혼혈은 착하다\n",
       "146180                           청춘 영화의 최고봉방황과 우울했던 날들의 자화상\n",
       "146181                             한국 영화 최초로 수간하는 내용이 담긴 영화\n",
       "Name: review, Length: 146182, dtype: object"
      ]
     },
     "execution_count": 34,
     "metadata": {},
     "output_type": "execute_result"
    }
   ],
   "source": [
    "df.loc[df.review.isnull()]\n",
    "df = df.dropna(how='any')\n",
    "df['review'] = df['review'].str.replace(\"[^ㄱ-ㅎㅏ-ㅣ가-힣 ]\",\"\")\n",
    "df = df.reset_index()\n",
    "df2 = df.copy()\n",
    "df2['review']"
   ]
  },
  {
   "cell_type": "markdown",
   "id": "ca93c9c1",
   "metadata": {},
   "source": [
    "* 문장을 단어로 쪼개어 전처리"
   ]
  },
  {
   "cell_type": "markdown",
   "id": "bfb9fc3f",
   "metadata": {},
   "source": [
    "- Kkma이 아닌 Okt를 쓴 이유"
   ]
  },
  {
   "cell_type": "code",
   "execution_count": 35,
   "id": "c16858d6",
   "metadata": {},
   "outputs": [],
   "source": [
    "# from konlpy.tag import Kkma\n",
    "\n",
    "# Kkma = Kkma()\n",
    "# temp_word = []\n",
    "# stop_words = ['의','가','이','은','들','는','좀','잘','걍','과','도','를','으로','자','에','와',\n",
    "#               '한','하다', '적', '인', '으로도', '끼리', '을', '까지', '에게도', '이니', '만으로', '이다']\n",
    "\n",
    "# for sentence in df['review'][:5]:\n",
    "#     temp = Kkma.nouns(sentence)\n",
    "#     temp = [word for word in temp if not word in stop_words]\n",
    "#     temp_word.append(temp)\n",
    "    \n",
    "# temp_word"
   ]
  },
  {
   "cell_type": "code",
   "execution_count": 36,
   "id": "20c3ccde",
   "metadata": {},
   "outputs": [
    {
     "data": {
      "text/plain": [
       "[['아', '더빙', '진짜', '짜증나네요', '목소리'],\n",
       " ['흠', '포스터', '보고', '초딩', '영화', '줄', '오버', '연기', '조차', '가볍지', '않구나'],\n",
       " ['너', '무재', '밓었', '다그', '래서', '보는것을', '추천', '다'],\n",
       " ['교도소', '이야기', '구먼', '솔직히', '재미', '없다', '평점', '조정'],\n",
       " ['사이',\n",
       "  '몬페',\n",
       "  '그',\n",
       "  '익살스런',\n",
       "  '연기',\n",
       "  '돋보였던',\n",
       "  '영화',\n",
       "  '스파이더맨',\n",
       "  '에서',\n",
       "  '늙어',\n",
       "  '보이기만',\n",
       "  '했던',\n",
       "  '커스틴',\n",
       "  '던스트',\n",
       "  '너무나도',\n",
       "  '이뻐',\n",
       "  '보였다']]"
      ]
     },
     "execution_count": 36,
     "metadata": {},
     "output_type": "execute_result"
    }
   ],
   "source": [
    "from konlpy.tag import Okt\n",
    "\n",
    "okt = Okt()\n",
    "temp_word = []\n",
    "stop_words = ['의','가','이','은','들','는','좀','잘','걍','과','도','를','으로','자','에','와',\n",
    "              '한','하다', '적', '인', '으로도', '끼리', '을', '까지', '에게도', '이니', '만으로', '이다']\n",
    "\n",
    "for sentence in df['review']:\n",
    "    temp = okt.morphs(sentence)\n",
    "    temp = [word for word in temp if not word in stop_words]\n",
    "    temp_word.append(temp)\n",
    "    \n",
    "temp_word[:5]"
   ]
  },
  {
   "cell_type": "markdown",
   "id": "919dc2a5",
   "metadata": {},
   "source": [
    "## 정수 인코딩"
   ]
  },
  {
   "cell_type": "code",
   "execution_count": 37,
   "id": "1bf16c71",
   "metadata": {},
   "outputs": [],
   "source": [
    "from tensorflow.keras.preprocessing.text import Tokenizer\n",
    "from tensorflow.keras.preprocessing.sequence import pad_sequences\n",
    "\n",
    "tokenizer = Tokenizer()\n",
    "tokenizer.fit_on_texts(temp_word)"
   ]
  },
  {
   "cell_type": "markdown",
   "id": "b7f1325f",
   "metadata": {},
   "source": [
    "* 빈도 수가 적은 단어들 삭제하기"
   ]
  },
  {
   "cell_type": "code",
   "execution_count": 38,
   "id": "888063dd",
   "metadata": {},
   "outputs": [
    {
     "name": "stdout",
     "output_type": "stream",
     "text": [
      "99994\n",
      "45373\n",
      "[[36, 412, 6, 6588, 619], [899, 414, 27, 562, 1, 177, 1512, 10, 933, 6026, 25774], [352, 2803, 2636, 7316, 12018, 184, 3]]\n",
      "[0 1 0 ... 0 1 0]\n"
     ]
    }
   ],
   "source": [
    "threshold = 2\n",
    "total_count = len(tokenizer.word_index)\n",
    "print(total_count)\n",
    "low_count = 0\n",
    "\n",
    "for key, value in tokenizer.word_counts.items():\n",
    "    if value < threshold:\n",
    "        low_count += 1\n",
    "        \n",
    "vocab_size = total_count-low_count+1\n",
    "print(vocab_size)\n",
    "\n",
    "tokenizer = Tokenizer(vocab_size)\n",
    "tokenizer.fit_on_texts(temp_word)\n",
    "temp_word = tokenizer.texts_to_sequences(temp_word)\n",
    "print(temp_word[:3])\n",
    "\n",
    "temp_positive = np.array(df['positive'])\n",
    "print(temp_positive)"
   ]
  },
  {
   "cell_type": "markdown",
   "id": "e61f11b3",
   "metadata": {},
   "source": [
    "* 빈 단어 제거"
   ]
  },
  {
   "cell_type": "code",
   "execution_count": 39,
   "id": "b73eaab8",
   "metadata": {},
   "outputs": [
    {
     "name": "stdout",
     "output_type": "stream",
     "text": [
      "1091\n",
      "145091\n",
      "<class 'numpy.ndarray'>\n",
      "[0 1 0 ... 0 1 0]\n"
     ]
    },
    {
     "name": "stderr",
     "output_type": "stream",
     "text": [
      "C:\\Users\\qwe\\anaconda3\\lib\\site-packages\\numpy\\core\\_asarray.py:83: VisibleDeprecationWarning: Creating an ndarray from ragged nested sequences (which is a list-or-tuple of lists-or-tuples-or ndarrays with different lengths or shapes) is deprecated. If you meant to do this, you must specify 'dtype=object' when creating the ndarray\n",
      "  return array(a, dtype, copy=False, order=order)\n"
     ]
    }
   ],
   "source": [
    "drop_word = [idx for idx, sentence in enumerate(temp_word) if len(sentence) < 1]\n",
    "print(len(drop_word))\n",
    "\n",
    "temp_word = np.delete(temp_word, drop_word, axis=0)\n",
    "temp_positive = np.delete(temp_positive, drop_word, axis=0)\n",
    "print(len(temp_word))\n",
    "print(type(temp_word))\n",
    "print(temp_positive)"
   ]
  },
  {
   "cell_type": "markdown",
   "id": "2e059241",
   "metadata": {},
   "source": [
    "* 서로 다른 길이의 리뷰를 같은 길이로 바꿔주는 작업"
   ]
  },
  {
   "cell_type": "code",
   "execution_count": 40,
   "id": "2c40c5d4",
   "metadata": {},
   "outputs": [
    {
     "name": "stdout",
     "output_type": "stream",
     "text": [
      "68\n",
      "10.545726475108724\n"
     ]
    },
    {
     "data": {
      "image/png": "[encoded data removed]",
      "text/plain": [
       "<Figure size 432x288 with 1 Axes>"
      ]
     },
     "metadata": {
      "needs_background": "light"
     },
     "output_type": "display_data"
    }
   ],
   "source": [
    "plt.hist([len(s) for s in temp_word], bins=50)\n",
    "print(max(len(i) for i in temp_word))\n",
    "print(sum(map(len, temp_word))/len(temp_word))"
   ]
  },
  {
   "cell_type": "code",
   "execution_count": 41,
   "id": "7f058d73",
   "metadata": {},
   "outputs": [
    {
     "name": "stdout",
     "output_type": "stream",
     "text": [
      "93.22425236575667\n"
     ]
    }
   ],
   "source": [
    "def per_sentence(max_len: int, word: list):\n",
    "    count = 0\n",
    "    for s in word:\n",
    "        if len(s) < max_len:\n",
    "            count += 1\n",
    "    print((count/len(word))*100)\n",
    "    \n",
    "max_len = 28\n",
    "per_sentence(max_len, temp_word)"
   ]
  },
  {
   "cell_type": "code",
   "execution_count": 42,
   "id": "4faedc7a",
   "metadata": {},
   "outputs": [
    {
     "name": "stdout",
     "output_type": "stream",
     "text": [
      "[[    0     0     0 ...     6  6588   619]\n",
      " [    0     0     0 ...   933  6026 25774]\n",
      " [    0     0     0 ... 12018   184     3]\n",
      " ...\n",
      " [    0     0     0 ... 15111 15000 16873]\n",
      " [    0     0     0 ... 26536   493 10751]\n",
      " [    0     0     0 ...    44  2878     1]]\n"
     ]
    }
   ],
   "source": [
    "temp_word = pad_sequences(temp_word, maxlen=max_len)\n",
    "print(temp_word)"
   ]
  },
  {
   "cell_type": "markdown",
   "id": "95352bb6",
   "metadata": {},
   "source": [
    "## 감정분석 머신러닝"
   ]
  },
  {
   "cell_type": "markdown",
   "id": "01e65a3b",
   "metadata": {},
   "source": [
    "* 데이터 학습"
   ]
  },
  {
   "cell_type": "code",
   "execution_count": 43,
   "id": "aa6340ed",
   "metadata": {},
   "outputs": [],
   "source": [
    "from tensorflow.keras.layers import Embedding, Dense, LSTM\n",
    "from tensorflow.keras.models import Sequential\n",
    "from tensorflow.keras.models import load_model, save_model\n",
    "from tensorflow.keras.callbacks import EarlyStopping, ModelCheckpoint"
   ]
  },
  {
   "cell_type": "code",
   "execution_count": 44,
   "id": "87b97970",
   "metadata": {},
   "outputs": [],
   "source": [
    "model = Sequential()\n",
    "model.add(Embedding(vocab_size, 100, input_length=max_len, mask_zero=True))\n",
    "model.add(LSTM(128))\n",
    "model.add(Dense(1, activation='sigmoid'))"
   ]
  },
  {
   "cell_type": "code",
   "execution_count": 45,
   "id": "87a78e9e",
   "metadata": {},
   "outputs": [],
   "source": [
    "es = EarlyStopping(monitor='val_loss', mode='min', verbose=1, patience=4)\n",
    "mc = ModelCheckpoint('model.h5', monitor='val_acc', mode='max', verbose=1, save_best_only=True)"
   ]
  },
  {
   "cell_type": "code",
   "execution_count": 46,
   "id": "9493d479",
   "metadata": {},
   "outputs": [
    {
     "name": "stdout",
     "output_type": "stream",
     "text": [
      "Epoch 1/60\n",
      "1935/1935 [==============================] - 74s 36ms/step - loss: 0.3920 - acc: 0.8216 - val_loss: 0.3582 - val_acc: 0.8418\n",
      "\n",
      "Epoch 00001: val_acc improved from -inf to 0.84183, saving model to model.h5\n",
      "Epoch 2/60\n",
      "1935/1935 [==============================] - 70s 36ms/step - loss: 0.3195 - acc: 0.8627 - val_loss: 0.3341 - val_acc: 0.8565\n",
      "\n",
      "Epoch 00002: val_acc improved from 0.84183 to 0.85647, saving model to model.h5\n",
      "Epoch 3/60\n",
      "1935/1935 [==============================] - 72s 37ms/step - loss: 0.2826 - acc: 0.8836 - val_loss: 0.3269 - val_acc: 0.8586\n",
      "\n",
      "Epoch 00003: val_acc improved from 0.85647 to 0.85858, saving model to model.h5\n",
      "Epoch 4/60\n",
      "1935/1935 [==============================] - 71s 37ms/step - loss: 0.2586 - acc: 0.8954 - val_loss: 0.3345 - val_acc: 0.8575\n",
      "\n",
      "Epoch 00004: val_acc did not improve from 0.85858\n",
      "Epoch 5/60\n",
      "1935/1935 [==============================] - 73s 38ms/step - loss: 0.2401 - acc: 0.9041 - val_loss: 0.3337 - val_acc: 0.8613\n",
      "\n",
      "Epoch 00005: val_acc improved from 0.85858 to 0.86126, saving model to model.h5\n",
      "Epoch 6/60\n",
      "1935/1935 [==============================] - 72s 37ms/step - loss: 0.2234 - acc: 0.9118 - val_loss: 0.3420 - val_acc: 0.8532\n",
      "\n",
      "Epoch 00006: val_acc did not improve from 0.86126\n",
      "Epoch 7/60\n",
      "1935/1935 [==============================] - 72s 37ms/step - loss: 0.2067 - acc: 0.9190 - val_loss: 0.3473 - val_acc: 0.8517\n",
      "\n",
      "Epoch 00007: val_acc did not improve from 0.86126\n",
      "Epoch 00007: early stopping\n"
     ]
    }
   ],
   "source": [
    "model.compile(optimizer='rmsprop', loss='binary_crossentropy', metrics=['acc'])\n",
    "history = model.fit(temp_word, temp_positive, epochs=60, callbacks=[es, mc], batch_size=60, validation_split=0.2)"
   ]
  },
  {
   "cell_type": "markdown",
   "id": "7d82767c",
   "metadata": {},
   "source": [
    "* 학습된 모델 로드"
   ]
  },
  {
   "cell_type": "code",
   "execution_count": 47,
   "id": "2bfe0f90",
   "metadata": {},
   "outputs": [
    {
     "name": "stdout",
     "output_type": "stream",
     "text": [
      "4535/4535 [==============================] - 26s 6ms/step - loss: 0.2409 - acc: 0.9035\n",
      "[0.24089278280735016, 0.9035088419914246]\n"
     ]
    }
   ],
   "source": [
    "loaded_model = load_model('model.h5')\n",
    "print(loaded_model.evaluate(temp_word, temp_positive))"
   ]
  },
  {
   "cell_type": "markdown",
   "id": "cfb650ab",
   "metadata": {},
   "source": [
    "* 모델 테스트"
   ]
  },
  {
   "cell_type": "code",
   "execution_count": null,
   "id": "58b1db69",
   "metadata": {},
   "outputs": [],
   "source": [
    "def sentiment_predict(new_sentence):\n",
    "    \n",
    "    new_sentence = okt.morphs(new_sentence) # 토큰화\n",
    "    new_sentence = [word for word in new_sentence if not word in stop_words] # 불용어 제거\n",
    "    encoded = tokenizer.texts_to_sequences([new_sentence]) # 정수 인코딩\n",
    "    pad_new = pad_sequences(encoded, maxlen = max_len) # 패딩\n",
    "    score = float(loaded_model.predict(pad_new)) # 예측\n",
    "    if(score > 0.5):\n",
    "        return str(round(score * 100, 2))+' 긍정'\n",
    "    else:\n",
    "        return str(round((1 - score) * 100, 2)) + ' 부정'"
   ]
  },
  {
   "cell_type": "code",
   "execution_count": null,
   "id": "95866432",
   "metadata": {},
   "outputs": [],
   "source": [
    "sentiment_predict('아이건아니다')"
   ]
  },
  {
   "cell_type": "code",
   "execution_count": 48,
   "id": "8e382f8b",
   "metadata": {},
   "outputs": [
    {
     "data": {
      "text/plain": [
       "[143507, 84018, 19303, 172009, 187507]"
      ]
     },
     "execution_count": 48,
     "metadata": {},
     "output_type": "execute_result"
    }
   ],
   "source": [
    "codes = [genre for genre in genre_df['영화id']]\n",
    "codes"
   ]
  },
  {
   "cell_type": "code",
   "execution_count": 49,
   "id": "5f024153",
   "metadata": {},
   "outputs": [],
   "source": [
    "# 추천 영화들의 리뷰와 평점을 한번에 볼 수 있다.\n",
    "def get_review(code):\n",
    "        for num,i in enumerate(code):\n",
    "            reviews=[]\n",
    "            grades=[]\n",
    "            for p in range(1,10):\n",
    "                url='https://movie.naver.com/movie/bi/mi/pointWriteFormList.naver?code={}&type=after&isActualPointWriteExecute=false&isMileageSubscriptionAlready=false&isMileageSubscriptionReject=false&page={}'.format(i, p)            \n",
    "                res = requests.get(url)\n",
    "                soup = BeautifulSoup(res.text, 'lxml')\n",
    "                review_lists=soup.find_all('li')[6:]\n",
    "\n",
    "                for idx,j in enumerate(review_lists):\n",
    "                    review=j.find('span', id=\"_filtered_ment_{}\".format(idx)).get_text().strip()\n",
    "                    grade=int(j.find('div',class_=\"star_score\").get_text())\n",
    "                    if '' != review and review not in reviews:\n",
    "                        reviews.append(review)\n",
    "                        grades.append(grade)\n",
    "\n",
    "            globals()['review_list{}'.format(num+1)]=reviews\n",
    "            globals()['grade_list{}'.format(num+1)]=grades\n",
    "        reviews_lists=[review_list1,review_list2,review_list3,review_list4,review_list5]\n",
    "        grades_lists=[grade_list1,grade_list2,grade_list3,grade_list4,grade_list5]\n",
    "        return reviews_lists, grades_lists"
   ]
  },
  {
   "cell_type": "markdown",
   "id": "31b21f81",
   "metadata": {},
   "source": [
    "- index에 맞춰 영화 네티즌의 리뷰와 평점을 끌어옴"
   ]
  },
  {
   "cell_type": "markdown",
   "id": "ccd694e8",
   "metadata": {},
   "source": [
    "- 그 다음 시각화할 예정"
   ]
  },
  {
   "cell_type": "code",
   "execution_count": 50,
   "id": "7fd68b7a",
   "metadata": {},
   "outputs": [],
   "source": [
    "def get_review(code):\n",
    "    reviews=[]\n",
    "    grades=[]\n",
    "    for p in range(1,10):\n",
    "        url='https://movie.naver.com/movie/bi/mi/pointWriteFormList.naver?code={}&type=after&isActualPointWriteExecute=false&isMileageSubscriptionAlready=false&isMileageSubscriptionReject=false&page={}'.format(code ,p)            \n",
    "        res = requests.get(url)\n",
    "        soup = BeautifulSoup(res.text, 'lxml')\n",
    "        review_lists=soup.find_all('li')[6:]\n",
    "\n",
    "        for idx, j in enumerate(review_lists):\n",
    "            review=j.find('span', id=\"_filtered_ment_{}\".format(idx)).get_text().strip()\n",
    "            grade=int(j.find('div',class_=\"star_score\").get_text())\n",
    "            if '' != review and review not in reviews:\n",
    "                reviews.append(review)\n",
    "                grades.append(grade)\n",
    "    zip_grades_reviews = list(zip(reviews, grades))\n",
    "    return zip_grades_reviews"
   ]
  },
  {
   "cell_type": "code",
   "execution_count": 51,
   "id": "ad1d456c",
   "metadata": {},
   "outputs": [
    {
     "data": {
      "text/plain": [
       "[('시즌 2가 흡인력이 제일 강했습니다', 10),\n",
       " ('마세코 시즌1부터 연속으로 2까지 봤습니다. 감동적인면도 있고 노력하는 사람들의 모습이 너무 멋있었습니다. 백성진씨랑 오보아씨가 가장 기억에 남는군요. 오보아씨처럼 저도 한쪽 청력이 안좋습니다. 저도 오보아씨처럼 장...',\n",
       "  10),\n",
       " ('세계적 셰프심사위원들의 초심조차 되돌아보게 만든 우승자 최강록씨의 순수한 마음가짐 열정과 노력이 있었기에 가능했던, 요리와 감동 그리고 인간미와 열정을 모두 느낄수 있는 있었던 요리프로의 수작이었다. 서바이벌임에도 ...',\n",
       "  9)]"
      ]
     },
     "execution_count": 51,
     "metadata": {},
     "output_type": "execute_result"
    }
   ],
   "source": [
    "get_review(104481)"
   ]
  },
  {
   "cell_type": "code",
   "execution_count": 52,
   "id": "9dfc8f7f",
   "metadata": {},
   "outputs": [],
   "source": [
    "def sentiment_predict(new_sentence):\n",
    "    \n",
    "    new_sentence = okt.morphs(new_sentence) # 토큰화\n",
    "    new_sentence = [word for word in new_sentence if not word in stop_words] # 불용어 제거\n",
    "    encoded = tokenizer.texts_to_sequences([new_sentence]) # 정수 인코딩\n",
    "    pad_new = pad_sequences(encoded, maxlen = max_len) # 패딩\n",
    "    score = float(loaded_model.predict(pad_new)) # 예측\n",
    "    if(score > 0.5):\n",
    "        return str(round(score * 100, 2))+' 긍정'\n",
    "    else:\n",
    "        return str(round((1 - score) * 100, 2)) + ' 부정'"
   ]
  },
  {
   "cell_type": "code",
   "execution_count": 53,
   "id": "b07d4f32",
   "metadata": {},
   "outputs": [],
   "source": [
    "positive = []\n",
    "negative = []\n",
    "ranks = []\n",
    "\n",
    "def get_emotion(code):\n",
    "    movie = get_review(code)\n",
    "    for review, rank in movie:\n",
    "        emotion = sentiment_predict(review)\n",
    "        if '긍정' in emotion:\n",
    "            emotion = emotion.replace('긍정', '')\n",
    "            positive.append(emotion)\n",
    "            ranks.append(rank)\n",
    "\n",
    "        else:\n",
    "            emotion = emotion.replace('부정', '')\n",
    "            negative.append(emotion)\n",
    "            ranks.append(rank)\n",
    "            \n",
    "    return positive, negative, ranks"
   ]
  },
  {
   "cell_type": "code",
   "execution_count": 54,
   "id": "8bfff194",
   "metadata": {},
   "outputs": [
    {
     "data": {
      "text/plain": [
       "(['99.27 ',\n",
       "  '97.83 ',\n",
       "  '99.58 ',\n",
       "  '77.73 ',\n",
       "  '96.02 ',\n",
       "  '71.49 ',\n",
       "  '99.66 ',\n",
       "  '99.22 ',\n",
       "  '99.59 ',\n",
       "  '99.0 ',\n",
       "  '98.07 ',\n",
       "  '98.08 ',\n",
       "  '93.59 ',\n",
       "  '99.47 ',\n",
       "  '99.12 ',\n",
       "  '99.26 ',\n",
       "  '95.25 ',\n",
       "  '61.67 ',\n",
       "  '99.91 ',\n",
       "  '99.38 ',\n",
       "  '93.85 ',\n",
       "  '96.49 ',\n",
       "  '99.9 ',\n",
       "  '95.82 ',\n",
       "  '97.9 ',\n",
       "  '99.94 ',\n",
       "  '99.53 ',\n",
       "  '99.94 ',\n",
       "  '99.75 ',\n",
       "  '61.77 ',\n",
       "  '90.3 ',\n",
       "  '99.55 ',\n",
       "  '98.55 ',\n",
       "  '99.15 ',\n",
       "  '97.41 ',\n",
       "  '96.71 ',\n",
       "  '99.45 ',\n",
       "  '99.31 ',\n",
       "  '92.26 ',\n",
       "  '99.7 ',\n",
       "  '96.89 ',\n",
       "  '98.27 ',\n",
       "  '94.84 ',\n",
       "  '97.16 ',\n",
       "  '99.03 ',\n",
       "  '99.59 ',\n",
       "  '97.52 ',\n",
       "  '95.92 ',\n",
       "  '99.34 ',\n",
       "  '99.52 ',\n",
       "  '83.21 ',\n",
       "  '58.62 ',\n",
       "  '80.98 ',\n",
       "  '97.08 ',\n",
       "  '88.0 ',\n",
       "  '99.77 ',\n",
       "  '77.91 ',\n",
       "  '93.25 ',\n",
       "  '99.85 ',\n",
       "  '99.32 ',\n",
       "  '99.68 ',\n",
       "  '91.48 ',\n",
       "  '99.7 ',\n",
       "  '99.07 ',\n",
       "  '99.29 ',\n",
       "  '99.6 ',\n",
       "  '92.62 ',\n",
       "  '55.13 ',\n",
       "  '97.27 ',\n",
       "  '95.25 ',\n",
       "  '97.92 ',\n",
       "  '98.87 ',\n",
       "  '98.76 ',\n",
       "  '99.01 ',\n",
       "  '97.39 ',\n",
       "  '99.58 ',\n",
       "  '99.61 '],\n",
       " ['89.73 ',\n",
       "  '99.46 ',\n",
       "  '56.86 ',\n",
       "  '53.62 ',\n",
       "  '98.31 ',\n",
       "  '68.87 ',\n",
       "  '92.01 ',\n",
       "  '69.81 ',\n",
       "  '64.49 ',\n",
       "  '99.0 ',\n",
       "  '85.15 ',\n",
       "  '91.42 ',\n",
       "  '69.41 '],\n",
       " [10,\n",
       "  10,\n",
       "  8,\n",
       "  8,\n",
       "  10,\n",
       "  10,\n",
       "  10,\n",
       "  10,\n",
       "  10,\n",
       "  10,\n",
       "  10,\n",
       "  10,\n",
       "  10,\n",
       "  10,\n",
       "  10,\n",
       "  10,\n",
       "  9,\n",
       "  10,\n",
       "  10,\n",
       "  10,\n",
       "  10,\n",
       "  10,\n",
       "  10,\n",
       "  10,\n",
       "  10,\n",
       "  10,\n",
       "  10,\n",
       "  10,\n",
       "  10,\n",
       "  10,\n",
       "  10,\n",
       "  10,\n",
       "  10,\n",
       "  10,\n",
       "  10,\n",
       "  10,\n",
       "  8,\n",
       "  10,\n",
       "  10,\n",
       "  10,\n",
       "  10,\n",
       "  10,\n",
       "  10,\n",
       "  10,\n",
       "  10,\n",
       "  10,\n",
       "  9,\n",
       "  10,\n",
       "  10,\n",
       "  10,\n",
       "  10,\n",
       "  10,\n",
       "  10,\n",
       "  10,\n",
       "  10,\n",
       "  8,\n",
       "  10,\n",
       "  10,\n",
       "  9,\n",
       "  9,\n",
       "  10,\n",
       "  8,\n",
       "  10,\n",
       "  10,\n",
       "  9,\n",
       "  10,\n",
       "  10,\n",
       "  8,\n",
       "  10,\n",
       "  10,\n",
       "  10,\n",
       "  6,\n",
       "  10,\n",
       "  10,\n",
       "  10,\n",
       "  10,\n",
       "  10,\n",
       "  10,\n",
       "  10,\n",
       "  10,\n",
       "  10,\n",
       "  10,\n",
       "  10,\n",
       "  10,\n",
       "  10,\n",
       "  10,\n",
       "  10,\n",
       "  10,\n",
       "  10,\n",
       "  10])"
      ]
     },
     "execution_count": 54,
     "metadata": {},
     "output_type": "execute_result"
    }
   ],
   "source": [
    "get_emotion(71081)"
   ]
  },
  {
   "cell_type": "code",
   "execution_count": 55,
   "id": "433ec7f1",
   "metadata": {},
   "outputs": [
    {
     "data": {
      "text/plain": [
       "[77, 13]"
      ]
     },
     "execution_count": 55,
     "metadata": {},
     "output_type": "execute_result"
    }
   ],
   "source": [
    "x = ['긍정', '부정']\n",
    "y = [len(positive), len(negative)]\n",
    "y"
   ]
  },
  {
   "cell_type": "code",
   "execution_count": 56,
   "id": "17b51235",
   "metadata": {},
   "outputs": [
    {
     "data": {
      "text/plain": [
       "10    78\n",
       "8      6\n",
       "9      5\n",
       "6      1\n",
       "Name: 평점, dtype: int64"
      ]
     },
     "execution_count": 56,
     "metadata": {},
     "output_type": "execute_result"
    }
   ],
   "source": [
    "emotion_review = positive+negative\n",
    "\n",
    "data = pd.DataFrame({'댓글':emotion_review, '평점':ranks})\n",
    "rate = data['평점'].value_counts()\n",
    "rate"
   ]
  },
  {
   "cell_type": "code",
   "execution_count": 57,
   "id": "04e19096",
   "metadata": {},
   "outputs": [],
   "source": [
    "# import matplotlib.pyplot as plt\n",
    "# from matplotlib.figure import Figure\n",
    "\n",
    "\n",
    "# figure: Figure = plt.figure(figsize=(9, 9))\n",
    "# ax1 = figure.add_subplot(2, 2, 1, xlabel='emotion', ylabel='count')\n",
    "# ax2 = figure.add_subplot(2, 2, 2)\n",
    "# ax3 = figure.add_subplot(2, 2, 3, xlabel='rank', ylabel='count')\n",
    "# xs = x\n",
    "# ys = y\n",
    "# ax1.bar(xs, ys)\n",
    "# ax2.pie(ys, labels=xs, autopct='%.1f%%')\n",
    "# ax3.bar(rate.index, rate.values)"
   ]
  },
  {
   "cell_type": "code",
   "execution_count": 32,
   "id": "9ef37463",
   "metadata": {},
   "outputs": [
    {
     "data": {
      "text/plain": [
       "16931    9.64\n",
       "12239    9.23\n",
       "16891     9.0\n",
       "1719     8.67\n",
       "12241    8.67\n",
       "Name: 평점, dtype: object"
      ]
     },
     "execution_count": 32,
     "metadata": {},
     "output_type": "execute_result"
    }
   ],
   "source": [
    "genre_df['평점'].astype(object)"
   ]
  },
  {
   "cell_type": "code",
   "execution_count": 59,
   "id": "a9bf3d76",
   "metadata": {},
   "outputs": [
    {
     "data": {
      "text/plain": [
       "{'제목': ['은혼 4기',\n",
       "  '닌자보이 란타로 극장판 : 시끌벅적 방학숙제 대소동!',\n",
       "  '모노노케 히메',\n",
       "  '마야2',\n",
       "  '타발루가와 얼음공주'],\n",
       " '장르': ['애니메이션', '애니메이션', '애니메이션', '애니메이션', '애니메이션'],\n",
       " '평점': [9.6, 9.38, 9.37, 9.34, 9.26]}"
      ]
     },
     "execution_count": 59,
     "metadata": {},
     "output_type": "execute_result"
    }
   ],
   "source": [
    "genre_dict = genre_df.loc[:, '제목':'평점'].to_dict('list')\n",
    "genre_dict"
   ]
  },
  {
   "cell_type": "code",
   "execution_count": 60,
   "id": "c19425f8",
   "metadata": {},
   "outputs": [],
   "source": [
    "column_idx_lookup = {'제목': 0, '장르': 1, '평점': 2}"
   ]
  },
  {
   "cell_type": "code",
   "execution_count": 33,
   "id": "4ba3ab44",
   "metadata": {},
   "outputs": [
    {
     "data": {
      "text/plain": [
       "[[36392, '못말리는 번디 가족', '코미디', 9.64],\n",
       " [34194, '쾌걸 춘향', '코미디', 9.23],\n",
       " [11510, '마타도르', '코미디', 9.0],\n",
       " [167053, '업사이드', '코미디', 8.67],\n",
       " [39576, '쿵푸 허슬', '코미디', 8.67]]"
      ]
     },
     "execution_count": 33,
     "metadata": {},
     "output_type": "execute_result"
    }
   ],
   "source": [
    "genre_list = []\n",
    "for i in range(len(genre_df)):\n",
    "    genre_list.append(list(genre_df.iloc[i][:4].values))\n",
    "\n",
    "genre_list"
   ]
  },
  {
   "cell_type": "code",
   "execution_count": 34,
   "id": "1709dfe6",
   "metadata": {},
   "outputs": [],
   "source": [
    "import sys\n",
    "from PyQt5 import uic, QtWidgets\n",
    "from PyQt5.QtCore import Qt\n",
    "from PyQt5.QtGui import QPixmap\n",
    "from PyQt5.QtWidgets import QTableWidget, QTableWidgetItem, QMainWindow"
   ]
  },
  {
   "cell_type": "code",
   "execution_count": null,
   "id": "b25a88e7",
   "metadata": {},
   "outputs": [],
   "source": [
    "from process_visualize import MovieVisualize\n",
    "from ui_utils_table import QTableFormat, QTableWidgetUtils\n",
    "\n",
    "\n",
    "FORM_CLASS = uic.loadUiType('movie_data_visualize.ui')[0]\n",
    "\n",
    "\n",
    "class WindowMovie(QMainWindow, FORM_CLASS):\n",
    "    def __init__(self):\n",
    "        super().__init__()\n",
    "        self.setupUi(self)\n",
    "\n",
    "        self.refresh_table()\n",
    "\n",
    "        self.init_signal()\n",
    "        self.show()\n",
    "\n",
    "    def init_signal(self):\n",
    "        self.tablewidget_movie_list.itemClicked.connect(self.on_clicked_refresh_chart)\n",
    "\n",
    "    def refresh_table(self):\n",
    "        self.tablewidget_movie_list: QTableWidget\n",
    "        self.tablewidget_movie_list.setRowCount(0)\n",
    "\n",
    "        form_display = QTableFormat()\n",
    "        form_user = QTableFormat()\n",
    "\n",
    "        for genre in genre_list:\n",
    "            display_row = tuple(genre[3:6])\n",
    "            user_row = (genre[2],) * len(display_row)\n",
    "\n",
    "            form_display.append_by_row(display_row)\n",
    "            form_user.append_by_row(user_row)\n",
    "\n",
    "        QTableWidgetUtils.refresh_by_items(self.tablewidget_movie_list, form_display, form_user)\n",
    "        QTableWidgetUtils.resize_table_widget(self.tablewidget_movie_list)\n",
    "\n",
    "    def on_clicked_refresh_chart(self, item: QTableWidgetItem):\n",
    "        selected_movie= item.data(Qt.UserRole)\n",
    "\n",
    "        get_emotion(selected_movie)\n",
    "\n",
    "        x = ['긍정', '부정']\n",
    "        y = [len(positive), len(negative)]\n",
    "\n",
    "        emotion_review = positive + negative\n",
    "\n",
    "        data = pd.DataFrame({'댓글': emotion_review, '평점': ranks})\n",
    "        rate = data['평점'].value_counts()\n",
    "\n",
    "        MovieVisualize.run(rate, x, y, f'{selected_movie}.png')\n",
    "\n",
    "        self.pixmap = QPixmap()\n",
    "        self.pixmap.load(f'{selected_movie}.png')\n",
    "        self.movie_label.setPixmap(self.pixmap)\n",
    "\n",
    "\n",
    "if __name__ == '__main__':\n",
    "    app = QtWidgets.QApplication(sys.argv)\n",
    "    window = WindowMovie()\n",
    "    app.exec()"
   ]
  },
  {
   "cell_type": "code",
   "execution_count": null,
   "id": "58723cb0",
   "metadata": {},
   "outputs": [],
   "source": []
  }
 ],
 "metadata": {
  "kernelspec": {
   "display_name": "Python 3",
   "language": "python",
   "name": "python3"
  },
  "language_info": {
   "codemirror_mode": {
    "name": "ipython",
    "version": 3
   },
   "file_extension": ".py",
   "mimetype": "text/x-python",
   "name": "python",
   "nbconvert_exporter": "python",
   "pygments_lexer": "ipython3",
   "version": "3.8.8"
  },
  "toc": {
   "base_numbering": 1,
   "nav_menu": {},
   "number_sections": true,
   "sideBar": true,
   "skip_h1_title": false,
   "title_cell": "Table of Contents",
   "title_sidebar": "Contents",
   "toc_cell": false,
   "toc_position": {},
   "toc_section_display": true,
   "toc_window_display": false
  }
 },
 "nbformat": 4,
 "nbformat_minor": 5
}
