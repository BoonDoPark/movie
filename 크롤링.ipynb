{
 "cells": [
  {
   "cell_type": "markdown",
   "id": "a4c4fcb7",
   "metadata": {},
   "source": [
    "# 영화 추천"
   ]
  },
  {
   "cell_type": "markdown",
   "id": "20f9fa4c",
   "metadata": {},
   "source": [
    "## 영화 년도별 데이터 생성 및 저장"
   ]
  },
  {
   "cell_type": "code",
   "execution_count": 1,
   "id": "3fc798d7",
   "metadata": {},
   "outputs": [],
   "source": [
    "import requests\n",
    "from selenium import webdriver as wd\n",
    "from selenium.webdriver.common.keys import Keys\n",
    "from bs4 import BeautifulSoup\n",
    "import time\n",
    "import pandas as pd"
   ]
  },
  {
   "cell_type": "code",
   "execution_count": null,
   "id": "45492a5b",
   "metadata": {},
   "outputs": [],
   "source": [
    "def replace_content(content):\n",
    "    content = content.replace('\\n', '')\n",
    "    content = content.replace('\\t', '')\n",
    "    content = content.replace('\\xa0', '')\n",
    "    return content"
   ]
  },
  {
   "cell_type": "code",
   "execution_count": null,
   "id": "d2b80a4b",
   "metadata": {},
   "outputs": [],
   "source": [
    "def get_link(year: int, pages: int):\n",
    "    links = []\n",
    "    for page in range(pages):\n",
    "        url = f\"https://movie.naver.com/movie/sdb/browsing/bmovie.naver?open={year}&page={page+1}\"\n",
    "        req = requests.get(url) \n",
    "        soup = BeautifulSoup(req.text, 'lxml')\n",
    "        movielinks = soup.select('ul.directory_list > li > a[href] ') \n",
    "        for movielink in movielinks:\n",
    "            link = \"https://movie.naver.com\"+str(movielink.get('href'))\n",
    "            if link not in links:\n",
    "                links.append(link)\n",
    "    return links"
   ]
  },
  {
   "cell_type": "code",
   "execution_count": null,
   "id": "c0d6f16b",
   "metadata": {},
   "outputs": [],
   "source": [
    "# 년도별로 데이터를 저장하기 위해서 년도와 페이지 입력으로 크롤링\n",
    "\n",
    "links = get_link(2021, 3)"
   ]
  },
  {
   "cell_type": "code",
   "execution_count": null,
   "id": "72943ad0",
   "metadata": {},
   "outputs": [],
   "source": [
    "movie_id = []\n",
    "titles = []\n",
    "contents = []\n",
    "ranks = []\n",
    "parts = []"
   ]
  },
  {
   "cell_type": "code",
   "execution_count": null,
   "id": "f7bb3c53",
   "metadata": {},
   "outputs": [],
   "source": [
    "url = \"https://www.naver.com\"\n",
    "browser = wd.Chrome(\"../chromedriver_win32/chromedriver.exe\") \n",
    "browser.get(url) \n",
    "time.sleep(3.0) # 30 \n",
    "browser.find_element_by_css_selector('body').send_keys(Keys.CONTROL + \"t\") \n",
    "\n",
    "for link in links: \n",
    "    browser.switch_to.window(browser.window_handles[-1]) \n",
    "    time.sleep(0.1) \n",
    "    browser.get(link) \n",
    "    time.sleep(0.1) \n",
    "    browser.switch_to.window(browser.window_handles[0]) \n",
    "    time.sleep(0.3) \n",
    "    html_soup = BeautifulSoup(browser.page_source, 'lxml') \n",
    "    flag = html_soup.text[0:10] \n",
    "    newflag = \"\".join(flag) \n",
    "    newflag = newflag.replace('\\n', '')\n",
    "    if newflag != '':\n",
    "        soup = BeautifulSoup(browser.page_source, 'lxml')\n",
    "        \n",
    "        rank = soup.find('a', id='pointNetizenPersentBasic')\n",
    "        content = soup.find('p', class_='con_tx')\n",
    "        if rank == None or content == None:\n",
    "            continue\n",
    "        ranks.append(rank.get_text().replace('\\n', ''))\n",
    "\n",
    "        content = content.get_text()\n",
    "        contents.append(replace_content(content))\n",
    "        \n",
    "        title = soup.find('h3', class_='h_movie')\n",
    "        titles.append(title.a.get_text())\n",
    "        \n",
    "        movie_id.append(title.a['href'][-6:].replace('=', ''))\n",
    "\n",
    "        part = soup.select_one('dd > p > span > a')\n",
    "        parts.append(part.get_text())"
   ]
  },
  {
   "cell_type": "code",
   "execution_count": null,
   "id": "45f900bb",
   "metadata": {},
   "outputs": [],
   "source": [
    "print(movie_id)"
   ]
  },
  {
   "cell_type": "code",
   "execution_count": null,
   "id": "5e4e3577",
   "metadata": {},
   "outputs": [],
   "source": [
    "def save_to_data(num: int, vmoie_id: list, title: list, part: list, rank: list, content: list):\n",
    "    try:\n",
    "        df = pd.DataFrame({'영화id':movie_id, '제목':title, '장르':part, '평점':rank, '줄거리':content})\n",
    "        df.to_csv(f'data_{num}.csv', index=False)\n",
    "    except:\n",
    "        print('error')"
   ]
  },
  {
   "cell_type": "code",
   "execution_count": null,
   "id": "90194172",
   "metadata": {},
   "outputs": [],
   "source": [
    "# 년도별로 저장\n",
    "\n",
    "save_to_data(1940, movie_id, titles, parts, ranks, contents)"
   ]
  },
  {
   "cell_type": "code",
   "execution_count": null,
   "id": "145f3d53",
   "metadata": {},
   "outputs": [],
   "source": [
    "pd.read_csv('data_1940.csv')"
   ]
  },
  {
   "cell_type": "code",
   "execution_count": null,
   "id": "07978d95",
   "metadata": {},
   "outputs": [],
   "source": [
    "df=pd.read_csv('data_2021.csv')\n",
    "for i in range(2020, 1989, -1):\n",
    "    df=df.append(pd.read_csv('data_{}.csv'.format(i)))\n",
    "for i in range(1980, 1930, -10):\n",
    "    df=df.append(pd.read_csv('data_{}.csv'.format(i)))"
   ]
  },
  {
   "cell_type": "code",
   "execution_count": null,
   "id": "2707238a",
   "metadata": {},
   "outputs": [],
   "source": [
    "df.to_csv('movie_data.csv', index=False, encoding='utf-8-sig')"
   ]
  }
 ],
 "metadata": {
  "kernelspec": {
   "display_name": "Python 3",
   "language": "python",
   "name": "python3"
  },
  "language_info": {
   "codemirror_mode": {
    "name": "ipython",
    "version": 3
   },
   "file_extension": ".py",
   "mimetype": "text/x-python",
   "name": "python",
   "nbconvert_exporter": "python",
   "pygments_lexer": "ipython3",
   "version": "3.8.8"
  },
  "toc": {
   "base_numbering": 1,
   "nav_menu": {},
   "number_sections": true,
   "sideBar": true,
   "skip_h1_title": false,
   "title_cell": "Table of Contents",
   "title_sidebar": "Contents",
   "toc_cell": false,
   "toc_position": {},
   "toc_section_display": true,
   "toc_window_display": false
  }
 },
 "nbformat": 4,
 "nbformat_minor": 5
}
