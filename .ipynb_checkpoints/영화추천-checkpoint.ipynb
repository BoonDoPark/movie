{
 "cells": [
  {
   "cell_type": "markdown",
   "id": "f0ee1bd7",
   "metadata": {},
   "source": [
    "# 영화 추천"
   ]
  },
  {
   "cell_type": "markdown",
   "id": "575ec102",
   "metadata": {},
   "source": [
    "## 데이터 전처리"
   ]
  },
  {
   "cell_type": "code",
   "execution_count": 54,
   "id": "62ef3830",
   "metadata": {},
   "outputs": [],
   "source": [
    "import pandas as pd\n",
    "import matplotlib.pyplot as plt\n",
    "import seaborn as sns\n",
    "import requests\n",
    "import re\n",
    "from bs4 import BeautifulSoup"
   ]
  },
  {
   "cell_type": "code",
   "execution_count": 55,
   "id": "2ea7f5f1",
   "metadata": {},
   "outputs": [
    {
     "name": "stdout",
     "output_type": "stream",
     "text": [
      "<class 'pandas.core.frame.DataFrame'>\n",
      "RangeIndex: 24255 entries, 0 to 24254\n",
      "Data columns (total 5 columns):\n",
      " #   Column  Non-Null Count  Dtype  \n",
      "---  ------  --------------  -----  \n",
      " 0   영화id    24255 non-null  int64  \n",
      " 1   제목      24255 non-null  object \n",
      " 2   장르      24255 non-null  object \n",
      " 3   평점      24255 non-null  float64\n",
      " 4   줄거리     24234 non-null  object \n",
      "dtypes: float64(1), int64(1), object(3)\n",
      "memory usage: 947.6+ KB\n"
     ]
    }
   ],
   "source": [
    "df = pd.read_csv('movie_data.csv')\n",
    "df.info()"
   ]
  },
  {
   "cell_type": "code",
   "execution_count": 56,
   "id": "ea24be8d",
   "metadata": {},
   "outputs": [
    {
     "data": {
      "text/plain": [
       "0"
      ]
     },
     "execution_count": 56,
     "metadata": {},
     "output_type": "execute_result"
    }
   ],
   "source": [
    "df.drop(df.loc[df['평점']==0.00].index, inplace=True)\n",
    "len(df.loc[df['평점']==0.00].index)"
   ]
  },
  {
   "cell_type": "code",
   "execution_count": 57,
   "id": "b958f63e",
   "metadata": {},
   "outputs": [
    {
     "data": {
      "text/plain": [
       "0"
      ]
     },
     "execution_count": 57,
     "metadata": {},
     "output_type": "execute_result"
    }
   ],
   "source": [
    "df.drop(df.loc[df['평점']==10.0].index, inplace=True)\n",
    "len(df[df['평점']==10.0].index)"
   ]
  },
  {
   "cell_type": "code",
   "execution_count": 58,
   "id": "18e36e22",
   "metadata": {},
   "outputs": [
    {
     "data": {
      "text/html": [
       "<div>\n",
       "<style scoped>\n",
       "    .dataframe tbody tr th:only-of-type {\n",
       "        vertical-align: middle;\n",
       "    }\n",
       "\n",
       "    .dataframe tbody tr th {\n",
       "        vertical-align: top;\n",
       "    }\n",
       "\n",
       "    .dataframe thead th {\n",
       "        text-align: right;\n",
       "    }\n",
       "</style>\n",
       "<table border=\"1\" class=\"dataframe\">\n",
       "  <thead>\n",
       "    <tr style=\"text-align: right;\">\n",
       "      <th></th>\n",
       "      <th>영화id</th>\n",
       "      <th>제목</th>\n",
       "      <th>장르</th>\n",
       "      <th>평점</th>\n",
       "      <th>줄거리</th>\n",
       "    </tr>\n",
       "  </thead>\n",
       "  <tbody>\n",
       "    <tr>\n",
       "      <th>0</th>\n",
       "      <td>99702</td>\n",
       "      <td>007 노 타임 투 다이</td>\n",
       "      <td>액션</td>\n",
       "      <td>6.82</td>\n",
       "      <td>가장 강력한 운명의 적과 마주하게된 제임스 본드의 마지막 미션이 시작된다</td>\n",
       "    </tr>\n",
       "    <tr>\n",
       "      <th>1</th>\n",
       "      <td>148043</td>\n",
       "      <td>117편의 러브레터</td>\n",
       "      <td>멜로/로맨스</td>\n",
       "      <td>9.00</td>\n",
       "      <td>1945년 홀로코스트에서 살아남은 헝가리 청년 '미클로시'는 해방 후 폐질환으로 6...</td>\n",
       "    </tr>\n",
       "    <tr>\n",
       "      <th>2</th>\n",
       "      <td>204776</td>\n",
       "      <td>120시간: 로스트 인 아웃백</td>\n",
       "      <td>드라마</td>\n",
       "      <td>5.00</td>\n",
       "      <td>호주로 여행을 떠나온 미국인 커플 리사와 웨이드.비행기 안에서 리사가 웨이드의 청혼...</td>\n",
       "    </tr>\n",
       "    <tr>\n",
       "      <th>3</th>\n",
       "      <td>201842</td>\n",
       "      <td>2021 스웨그 에이지 : 외쳐, 조선!</td>\n",
       "      <td>공연실황</td>\n",
       "      <td>8.00</td>\n",
       "      <td>삶의 고단함과 역경을 시조 속에 담아 훌훌 털어버렸던 백성들은 역모 사건으로 시조 ...</td>\n",
       "    </tr>\n",
       "    <tr>\n",
       "      <th>4</th>\n",
       "      <td>198765</td>\n",
       "      <td>2067</td>\n",
       "      <td>SF</td>\n",
       "      <td>3.70</td>\n",
       "      <td>지구 종말이 도래하고, 산소가 중요한 화폐가 된 서기 2067년.‘타임머신’이라고 ...</td>\n",
       "    </tr>\n",
       "  </tbody>\n",
       "</table>\n",
       "</div>"
      ],
      "text/plain": [
       "     영화id                      제목      장르    평점  \\\n",
       "0   99702           007 노 타임 투 다이      액션  6.82   \n",
       "1  148043              117편의 러브레터  멜로/로맨스  9.00   \n",
       "2  204776        120시간: 로스트 인 아웃백     드라마  5.00   \n",
       "3  201842  2021 스웨그 에이지 : 외쳐, 조선!    공연실황  8.00   \n",
       "4  198765                    2067      SF  3.70   \n",
       "\n",
       "                                                 줄거리  \n",
       "0           가장 강력한 운명의 적과 마주하게된 제임스 본드의 마지막 미션이 시작된다  \n",
       "1  1945년 홀로코스트에서 살아남은 헝가리 청년 '미클로시'는 해방 후 폐질환으로 6...  \n",
       "2  호주로 여행을 떠나온 미국인 커플 리사와 웨이드.비행기 안에서 리사가 웨이드의 청혼...  \n",
       "3  삶의 고단함과 역경을 시조 속에 담아 훌훌 털어버렸던 백성들은 역모 사건으로 시조 ...  \n",
       "4  지구 종말이 도래하고, 산소가 중요한 화폐가 된 서기 2067년.‘타임머신’이라고 ...  "
      ]
     },
     "execution_count": 58,
     "metadata": {},
     "output_type": "execute_result"
    }
   ],
   "source": [
    "df = df.reset_index()\n",
    "df = df.drop(columns=['index'])\n",
    "df.head()"
   ]
  },
  {
   "cell_type": "code",
   "execution_count": 59,
   "id": "803be438",
   "metadata": {},
   "outputs": [],
   "source": [
    "# df['줄거리'].nunique(), df['평점'].nunique()"
   ]
  },
  {
   "cell_type": "code",
   "execution_count": 60,
   "id": "4e65feac",
   "metadata": {},
   "outputs": [],
   "source": [
    "df.drop_duplicates(subset=['제목'], inplace=True)"
   ]
  },
  {
   "cell_type": "code",
   "execution_count": 61,
   "id": "224f96c6",
   "metadata": {},
   "outputs": [],
   "source": [
    "# len(df)"
   ]
  },
  {
   "cell_type": "code",
   "execution_count": 62,
   "id": "f19699e4",
   "metadata": {},
   "outputs": [
    {
     "data": {
      "text/html": [
       "<div>\n",
       "<style scoped>\n",
       "    .dataframe tbody tr th:only-of-type {\n",
       "        vertical-align: middle;\n",
       "    }\n",
       "\n",
       "    .dataframe tbody tr th {\n",
       "        vertical-align: top;\n",
       "    }\n",
       "\n",
       "    .dataframe thead th {\n",
       "        text-align: right;\n",
       "    }\n",
       "</style>\n",
       "<table border=\"1\" class=\"dataframe\">\n",
       "  <thead>\n",
       "    <tr style=\"text-align: right;\">\n",
       "      <th></th>\n",
       "      <th>영화id</th>\n",
       "      <th>제목</th>\n",
       "      <th>장르</th>\n",
       "      <th>평점</th>\n",
       "      <th>줄거리</th>\n",
       "    </tr>\n",
       "  </thead>\n",
       "  <tbody>\n",
       "  </tbody>\n",
       "</table>\n",
       "</div>"
      ],
      "text/plain": [
       "Empty DataFrame\n",
       "Columns: [영화id, 제목, 장르, 평점, 줄거리]\n",
       "Index: []"
      ]
     },
     "execution_count": 62,
     "metadata": {},
     "output_type": "execute_result"
    }
   ],
   "source": [
    "df.loc[df.제목.isnull()]"
   ]
  },
  {
   "cell_type": "code",
   "execution_count": 63,
   "id": "f5542579",
   "metadata": {},
   "outputs": [],
   "source": [
    "df = df.dropna(how='any')"
   ]
  },
  {
   "cell_type": "code",
   "execution_count": 64,
   "id": "01a208a4",
   "metadata": {},
   "outputs": [
    {
     "name": "stderr",
     "output_type": "stream",
     "text": [
      "<ipython-input-64-4255e0998170>:1: FutureWarning: The default value of regex will change from True to False in a future version.\n",
      "  df['줄거리'] = df['줄거리'].str.replace(\"[^ㄱ-ㅎㅏ-ㅣ가-힣 ]\",\"\")\n"
     ]
    }
   ],
   "source": [
    "df['줄거리'] = df['줄거리'].str.replace(\"[^ㄱ-ㅎㅏ-ㅣ가-힣 ]\",\"\")\n",
    "df = df.reset_index()"
   ]
  },
  {
   "cell_type": "code",
   "execution_count": 65,
   "id": "fdd1cba8",
   "metadata": {},
   "outputs": [
    {
     "data": {
      "text/plain": [
       "17858"
      ]
     },
     "execution_count": 65,
     "metadata": {},
     "output_type": "execute_result"
    }
   ],
   "source": [
    "df = df.drop(columns=['index'])\n",
    "len(df['영화id'])"
   ]
  },
  {
   "cell_type": "code",
   "execution_count": 66,
   "id": "217894d0",
   "metadata": {},
   "outputs": [
    {
     "data": {
      "text/plain": [
       "17858"
      ]
     },
     "execution_count": 66,
     "metadata": {},
     "output_type": "execute_result"
    }
   ],
   "source": [
    "len(df['영화id'])"
   ]
  },
  {
   "cell_type": "markdown",
   "id": "5a6db112",
   "metadata": {},
   "source": [
    "## 영화 평점 10점과 0점을 제외해야 하는 이유"
   ]
  },
  {
   "cell_type": "code",
   "execution_count": 76,
   "id": "adc2f167",
   "metadata": {},
   "outputs": [],
   "source": [
    "df2 = pd.read_csv('movie_data.csv')"
   ]
  },
  {
   "cell_type": "code",
   "execution_count": 77,
   "id": "dad0367c",
   "metadata": {},
   "outputs": [],
   "source": [
    "df2['평점'] = df2['평점'].astype(int)"
   ]
  },
  {
   "cell_type": "code",
   "execution_count": 78,
   "id": "1261aadd",
   "metadata": {},
   "outputs": [],
   "source": [
    "from matplotlib import font_manager, rc"
   ]
  },
  {
   "cell_type": "code",
   "execution_count": 79,
   "id": "4a9e92cc",
   "metadata": {},
   "outputs": [],
   "source": [
    "font_test = 'c:/Windows/Fonts/malgun.ttf'\n",
    "font_name = font_manager.FontProperties(fname=font_test).get_name()\n",
    "rc('font', family=font_name)"
   ]
  },
  {
   "cell_type": "code",
   "execution_count": 80,
   "id": "3f328972",
   "metadata": {
    "scrolled": true
   },
   "outputs": [
    {
     "name": "stderr",
     "output_type": "stream",
     "text": [
      "C:\\Users\\qwe\\anaconda3\\lib\\site-packages\\seaborn\\_decorators.py:36: FutureWarning: Pass the following variable as a keyword arg: x. From version 0.12, the only valid positional argument will be `data`, and passing other arguments without an explicit keyword will result in an error or misinterpretation.\n",
      "  warnings.warn(\n"
     ]
    },
    {
     "data": {
      "text/plain": [
       "<AxesSubplot:xlabel='평점', ylabel='count'>"
      ]
     },
     "execution_count": 80,
     "metadata": {},
     "output_type": "execute_result"
    },
    {
     "data": {
      "image/png": "[encoded data removed]",
      "text/plain": [
       "<Figure size 864x360 with 1 Axes>"
      ]
     },
     "metadata": {
      "needs_background": "light"
     },
     "output_type": "display_data"
    }
   ],
   "source": [
    "# 평점 0이 많은걸 확인할 수 있다.\n",
    "\n",
    "fig, axe = plt.subplots(ncols=1)\n",
    "fig.set_size_inches(12,5)\n",
    "sns.countplot(df2['평점'])"
   ]
  },
  {
   "cell_type": "markdown",
   "id": "cbaedcd0",
   "metadata": {},
   "source": [
    "# 영화추천 머신러닝"
   ]
  },
  {
   "cell_type": "code",
   "execution_count": 6,
   "id": "fc88c816",
   "metadata": {},
   "outputs": [],
   "source": [
    "x_train = df['장르']\n",
    "y_train = df['평점']"
   ]
  },
  {
   "cell_type": "code",
   "execution_count": 7,
   "id": "bd4a5ccf",
   "metadata": {},
   "outputs": [],
   "source": [
    "import numpy as np\n",
    "from sklearn.feature_extraction.text import CountVectorizer\n",
    "from sklearn.metrics.pairwise import cosine_similarity"
   ]
  },
  {
   "cell_type": "code",
   "execution_count": 8,
   "id": "32bbecca",
   "metadata": {},
   "outputs": [
    {
     "name": "stdout",
     "output_type": "stream",
     "text": [
      "['2008', '2013', '2014', '2015', 'sf', 'tv영화', '가족', '공연실황', '공포', '공화국', '그리스', '남아프리카', '노르웨이', '느와르', '다큐멘터리', '대만', '덴마크', '독일', '드라마', '러시아', '로맨스', '멕시코', '멜로', '모험', '몽골', '무협', '뮤지컬', '미국', '미스터리', '범죄', '벨기에', '부탄', '블랙코미디', '서독', '서부', '서사', '서스펜스', '소련', '스릴러', '스페인', '실험', '아르헨티나', '아일랜드', '애니메이션', '액션', '에로', '연방', '영국', '오스트레일리아', '오스트리아', '우즈베키스탄', '웹무비', '이란', '이탈리아', '인도', '일본', '전쟁', '중국', '체코', '캐나다', '컬트', '코미디', '쿠바', '태국', '판타지', '프랑스', '핀란드', '한국', '헝가리', '홍콩']\n"
     ]
    }
   ],
   "source": [
    "vectorizer = CountVectorizer()\n",
    "x = vectorizer.fit_transform(x_train)\n",
    "print(vectorizer.get_feature_names())\n",
    "# vectorizer.vocabulary_"
   ]
  },
  {
   "cell_type": "code",
   "execution_count": 9,
   "id": "aabca46a",
   "metadata": {},
   "outputs": [
    {
     "data": {
      "text/plain": [
       "array([[1., 0., 0., ..., 0., 0., 0.],\n",
       "       [0., 1., 0., ..., 1., 0., 0.],\n",
       "       [0., 0., 1., ..., 0., 1., 0.],\n",
       "       ...,\n",
       "       [0., 1., 0., ..., 1., 0., 0.],\n",
       "       [0., 0., 1., ..., 0., 1., 0.],\n",
       "       [0., 0., 0., ..., 0., 0., 1.]])"
      ]
     },
     "execution_count": 9,
     "metadata": {},
     "output_type": "execute_result"
    }
   ],
   "source": [
    "similarity = cosine_similarity(x, x)\n",
    "similarity"
   ]
  },
  {
   "cell_type": "code",
   "execution_count": 10,
   "id": "eadd2505",
   "metadata": {},
   "outputs": [
    {
     "data": {
      "text/plain": [
       "array([[18758, 11042, 11043, ..., 11642, 11665,  9379],\n",
       "       [    0, 12368, 12369, ...,  3654,  7733, 17301],\n",
       "       [    0, 11513, 11514, ...,  6112, 14221,  3948],\n",
       "       ...,\n",
       "       [    0, 12368, 12369, ...,  3654,  7733, 17301],\n",
       "       [    0, 11513, 11514, ...,  6112, 14221,  3948],\n",
       "       [    0, 12489, 12488, ..., 12172, 15352, 18758]], dtype=int64)"
      ]
     },
     "execution_count": 10,
     "metadata": {},
     "output_type": "execute_result"
    }
   ],
   "source": [
    "similarity = similarity.argsort()\n",
    "similarity"
   ]
  },
  {
   "cell_type": "code",
   "execution_count": 11,
   "id": "feb65b62",
   "metadata": {},
   "outputs": [
    {
     "data": {
      "text/plain": [
       "array([[ 9379, 11665, 11642, ..., 11043, 11042, 18758],\n",
       "       [17301,  7733,  3654, ..., 12369, 12368,     0],\n",
       "       [ 3948, 14221,  6112, ..., 11514, 11513,     0],\n",
       "       ...,\n",
       "       [17301,  7733,  3654, ..., 12369, 12368,     0],\n",
       "       [ 3948, 14221,  6112, ..., 11514, 11513,     0],\n",
       "       [18758, 15352, 12172, ..., 12488, 12489,     0]], dtype=int64)"
      ]
     },
     "execution_count": 11,
     "metadata": {},
     "output_type": "execute_result"
    }
   ],
   "source": [
    "similarity = similarity[:, ::-1]\n",
    "similarity"
   ]
  },
  {
   "cell_type": "code",
   "execution_count": 12,
   "id": "c6c06af7",
   "metadata": {},
   "outputs": [
    {
     "data": {
      "text/plain": [
       "(18759, 18759)"
      ]
     },
     "execution_count": 12,
     "metadata": {},
     "output_type": "execute_result"
    }
   ],
   "source": [
    "similarity.shape"
   ]
  },
  {
   "cell_type": "code",
   "execution_count": 42,
   "id": "9e7c7542",
   "metadata": {},
   "outputs": [],
   "source": [
    "def get_recommend_movie(title):\n",
    "    search_genre = df[df['제목'] == title]\n",
    "    search_genre_index = search_genre.index.values\n",
    "    print(search_genre_index)\n",
    "    similarity_index = similarity[search_genre_index, :30].reshape(-1)\n",
    "    print(similarity_index)\n",
    "    similarity_index = similarity_index[similarity_index != search_genre_index]\n",
    "    print(similarity_index)\n",
    "    result = df.iloc[similarity_index].sort_values('평점', ascending=False)[:5]\n",
    "    return result"
   ]
  },
  {
   "cell_type": "markdown",
   "id": "680522e1",
   "metadata": {},
   "source": [
    "- 제목이 중복이 될 경우 오류가 나는 상황 발생"
   ]
  },
  {
   "cell_type": "code",
   "execution_count": 43,
   "id": "5a40d9e2",
   "metadata": {},
   "outputs": [],
   "source": [
    "import random"
   ]
  },
  {
   "cell_type": "code",
   "execution_count": 44,
   "id": "5d9cae0f",
   "metadata": {},
   "outputs": [
    {
     "name": "stdout",
     "output_type": "stream",
     "text": [
      "귀타귀 '92\n"
     ]
    }
   ],
   "source": [
    "shuffle = list(df['제목'].values)\n",
    "movie = random.choice(shuffle)\n",
    "print(movie)"
   ]
  },
  {
   "cell_type": "code",
   "execution_count": 45,
   "id": "05e37362",
   "metadata": {},
   "outputs": [
    {
     "name": "stdout",
     "output_type": "stream",
     "text": [
      "[15791]\n",
      "[15456 15997 15686 14236 15979 16271 16089 16273 15690 15638 14235 16086\n",
      " 15694 15824 15823 12869 16135 15401 15267 16650 17474 16432 12998 14801\n",
      " 15345 13756 15458 14674 15393 15712]\n",
      "[15456 15997 15686 14236 15979 16271 16089 16273 15690 15638 14235 16086\n",
      " 15694 15824 15823 12869 16135 15401 15267 16650 17474 16432 12998 14801\n",
      " 15345 13756 15458 14674 15393 15712]\n"
     ]
    },
    {
     "data": {
      "text/html": [
       "<div>\n",
       "<style scoped>\n",
       "    .dataframe tbody tr th:only-of-type {\n",
       "        vertical-align: middle;\n",
       "    }\n",
       "\n",
       "    .dataframe tbody tr th {\n",
       "        vertical-align: top;\n",
       "    }\n",
       "\n",
       "    .dataframe thead th {\n",
       "        text-align: right;\n",
       "    }\n",
       "</style>\n",
       "<table border=\"1\" class=\"dataframe\">\n",
       "  <thead>\n",
       "    <tr style=\"text-align: right;\">\n",
       "      <th></th>\n",
       "      <th>영화id</th>\n",
       "      <th>제목</th>\n",
       "      <th>장르</th>\n",
       "      <th>평점</th>\n",
       "      <th>줄거리</th>\n",
       "    </tr>\n",
       "  </thead>\n",
       "  <tbody>\n",
       "    <tr>\n",
       "      <th>14801</th>\n",
       "      <td>25512</td>\n",
       "      <td>여인사십</td>\n",
       "      <td>홍콩</td>\n",
       "      <td>9.86</td>\n",
       "      <td>손씨 부인은 40대의 평범한 주부로 남편, 그리고 아들과 살아간다. 그러던 어느날,...</td>\n",
       "    </tr>\n",
       "    <tr>\n",
       "      <th>14674</th>\n",
       "      <td>14072</td>\n",
       "      <td>낭만풍폭</td>\n",
       "      <td>홍콩</td>\n",
       "      <td>9.48</td>\n",
       "      <td>가족 모두가 학문 분야에서 뛰어난 두각을 보이는 집안에서 태어난 켄(곽부성 분)은 ...</td>\n",
       "    </tr>\n",
       "    <tr>\n",
       "      <th>15345</th>\n",
       "      <td>16230</td>\n",
       "      <td>여룡공무</td>\n",
       "      <td>홍콩</td>\n",
       "      <td>9.00</td>\n",
       "      <td>홍콩의 재벌인 룽자쥔은 과중한 업무와 결혼을 종용하는 어머니에게 스트레스를 받던 중...</td>\n",
       "    </tr>\n",
       "    <tr>\n",
       "      <th>16271</th>\n",
       "      <td>13235</td>\n",
       "      <td>지존애림</td>\n",
       "      <td>홍콩</td>\n",
       "      <td>9.00</td>\n",
       "      <td>창녀인 유혜란은 젊었을 떠 사생아를 낳고 가나 더문에 3개월 된 아들을 고아원에 버...</td>\n",
       "    </tr>\n",
       "    <tr>\n",
       "      <th>15267</th>\n",
       "      <td>16766</td>\n",
       "      <td>벽혈신검</td>\n",
       "      <td>홍콩</td>\n",
       "      <td>8.67</td>\n",
       "      <td>성격이 발랄한 장평 공주(장민 분)은 강호 경험을 쌓기 위해 궁에서 뛰쳐나와 사부님...</td>\n",
       "    </tr>\n",
       "  </tbody>\n",
       "</table>\n",
       "</div>"
      ],
      "text/plain": [
       "        영화id    제목  장르    평점  \\\n",
       "14801  25512  여인사십  홍콩  9.86   \n",
       "14674  14072  낭만풍폭  홍콩  9.48   \n",
       "15345  16230  여룡공무  홍콩  9.00   \n",
       "16271  13235  지존애림  홍콩  9.00   \n",
       "15267  16766  벽혈신검  홍콩  8.67   \n",
       "\n",
       "                                                     줄거리  \n",
       "14801  손씨 부인은 40대의 평범한 주부로 남편, 그리고 아들과 살아간다. 그러던 어느날,...  \n",
       "14674  가족 모두가 학문 분야에서 뛰어난 두각을 보이는 집안에서 태어난 켄(곽부성 분)은 ...  \n",
       "15345  홍콩의 재벌인 룽자쥔은 과중한 업무와 결혼을 종용하는 어머니에게 스트레스를 받던 중...  \n",
       "16271  창녀인 유혜란은 젊었을 떠 사생아를 낳고 가나 더문에 3개월 된 아들을 고아원에 버...  \n",
       "15267  성격이 발랄한 장평 공주(장민 분)은 강호 경험을 쌓기 위해 궁에서 뛰쳐나와 사부님...  "
      ]
     },
     "execution_count": 45,
     "metadata": {},
     "output_type": "execute_result"
    }
   ],
   "source": [
    "genre_df = get_recommend_movie(movie)\n",
    "genre_df"
   ]
  },
  {
   "cell_type": "markdown",
   "id": "f3241498",
   "metadata": {},
   "source": [
    "# 영화 리뷰 감정분석"
   ]
  },
  {
   "cell_type": "markdown",
   "id": "e08d829f",
   "metadata": {},
   "source": [
    "## 데이터 로드"
   ]
  },
  {
   "cell_type": "markdown",
   "id": "68dbdd85",
   "metadata": {},
   "source": [
    "- 출처 : https://raw.githubusercontent.com/e9t/nsmc/master"
   ]
  },
  {
   "cell_type": "code",
   "execution_count": 31,
   "id": "825ddb0f",
   "metadata": {},
   "outputs": [],
   "source": [
    "import urllib.request"
   ]
  },
  {
   "cell_type": "code",
   "execution_count": 32,
   "id": "a11cae3a",
   "metadata": {},
   "outputs": [
    {
     "data": {
      "text/plain": [
       "('ratings_train.txt', <http.client.HTTPMessage at 0x1bf59cb8f10>)"
      ]
     },
     "execution_count": 32,
     "metadata": {},
     "output_type": "execute_result"
    }
   ],
   "source": [
    "urllib.request.urlretrieve(\"https://raw.githubusercontent.com/e9t/nsmc/master/ratings_train.txt\", filename=\"ratings_train.txt\")"
   ]
  },
  {
   "cell_type": "code",
   "execution_count": 71,
   "id": "610481ea",
   "metadata": {},
   "outputs": [],
   "source": [
    "df = pd.read_table('ratings_train.txt')\n",
    "df.to_csv('emotion_analysis.csv', index=False,encoding='utf-8-sig')\n",
    "df = pd.read_csv('emotion_analysis.csv')\n",
    "df = df.rename(columns={'document':'review', 'label':'positive'})"
   ]
  },
  {
   "cell_type": "markdown",
   "id": "db284588",
   "metadata": {},
   "source": [
    "## 데이터 전처리"
   ]
  },
  {
   "cell_type": "markdown",
   "id": "debc40db",
   "metadata": {},
   "source": [
    "* 중복값 제거"
   ]
  },
  {
   "cell_type": "code",
   "execution_count": 72,
   "id": "32df8e05",
   "metadata": {},
   "outputs": [
    {
     "data": {
      "text/plain": [
       "146183"
      ]
     },
     "execution_count": 72,
     "metadata": {},
     "output_type": "execute_result"
    }
   ],
   "source": [
    "df['review'].nunique(), df['positive'].nunique()\n",
    "df.drop_duplicates(subset=['review'], inplace=True)\n",
    "len(df)"
   ]
  },
  {
   "cell_type": "markdown",
   "id": "0a640327",
   "metadata": {},
   "source": [
    "* Nan값 제거"
   ]
  },
  {
   "cell_type": "code",
   "execution_count": 73,
   "id": "c0086910",
   "metadata": {},
   "outputs": [
    {
     "name": "stderr",
     "output_type": "stream",
     "text": [
      "<ipython-input-73-25cd9cc984da>:3: FutureWarning: The default value of regex will change from True to False in a future version.\n",
      "  df['review'] = df['review'].str.replace(\"[^ㄱ-ㅎㅏ-ㅣ가-힣 ]\",\"\")\n"
     ]
    },
    {
     "data": {
      "text/plain": [
       "0                                         아 더빙 진짜 짜증나네요 목소리\n",
       "1                                흠포스터보고 초딩영화줄오버연기조차 가볍지 않구나\n",
       "2                                         너무재밓었다그래서보는것을추천한다\n",
       "3                                 교도소 이야기구먼 솔직히 재미는 없다평점 조정\n",
       "4         사이몬페그의 익살스런 연기가 돋보였던 영화스파이더맨에서 늙어보이기만 했던 커스틴 던...\n",
       "                                ...                        \n",
       "146177                                      인간이 문제지 소는 뭔죄인가\n",
       "146178                                           평점이 너무 낮아서\n",
       "146179                        이게 뭐요 한국인은 거들먹거리고 필리핀 혼혈은 착하다\n",
       "146180                           청춘 영화의 최고봉방황과 우울했던 날들의 자화상\n",
       "146181                             한국 영화 최초로 수간하는 내용이 담긴 영화\n",
       "Name: review, Length: 146182, dtype: object"
      ]
     },
     "execution_count": 73,
     "metadata": {},
     "output_type": "execute_result"
    }
   ],
   "source": [
    "df.loc[df.review.isnull()]\n",
    "df = df.dropna(how='any')\n",
    "df['review'] = df['review'].str.replace(\"[^ㄱ-ㅎㅏ-ㅣ가-힣 ]\",\"\")\n",
    "df = df.reset_index()\n",
    "df2 = df.copy()\n",
    "df2['review']"
   ]
  },
  {
   "cell_type": "markdown",
   "id": "ca93c9c1",
   "metadata": {},
   "source": [
    "* 문장을 단어로 쪼개어 전처리"
   ]
  },
  {
   "cell_type": "markdown",
   "id": "bfb9fc3f",
   "metadata": {},
   "source": [
    "- Kkma이 아닌 Okt를 쓴 이유"
   ]
  },
  {
   "cell_type": "code",
   "execution_count": 53,
   "id": "c16858d6",
   "metadata": {},
   "outputs": [
    {
     "data": {
      "text/plain": [
       "[['더빙', '목소리'],\n",
       " ['흠',\n",
       "  '흠포스터보고',\n",
       "  '포스터',\n",
       "  '보고',\n",
       "  '초',\n",
       "  '초딩영화줄',\n",
       "  '딩',\n",
       "  '영화',\n",
       "  '줄',\n",
       "  '오버',\n",
       "  '오버연기',\n",
       "  '연기'],\n",
       " ['재', '재밓', '밓', '추천'],\n",
       " ['교도소', '이야기', '재미', '평점', '조정'],\n",
       " ['사이몬페그', '익살', '연기', '영화', '영화스파이더맨', '스파이', '더', '맨', '커스틴', '던스트']]"
      ]
     },
     "execution_count": 53,
     "metadata": {},
     "output_type": "execute_result"
    }
   ],
   "source": [
    "from konlpy.tag import Kkma\n",
    "\n",
    "Kkma = Kkma()\n",
    "temp_word = []\n",
    "stop_words = ['의','가','이','은','들','는','좀','잘','걍','과','도','를','으로','자','에','와',\n",
    "              '한','하다', '적', '인', '으로도', '끼리', '을', '까지', '에게도', '이니', '만으로', '이다']\n",
    "\n",
    "for sentence in df['review'][:5]:\n",
    "    temp = Kkma.nouns(sentence)\n",
    "    temp = [word for word in temp if not word in stop_words]\n",
    "    temp_word.append(temp)\n",
    "    \n",
    "temp_word"
   ]
  },
  {
   "cell_type": "code",
   "execution_count": 81,
   "id": "20c3ccde",
   "metadata": {},
   "outputs": [
    {
     "ename": "KeyboardInterrupt",
     "evalue": "",
     "output_type": "error",
     "traceback": [
      "\u001b[1;31m---------------------------------------------------------------------------\u001b[0m",
      "\u001b[1;31mKeyboardInterrupt\u001b[0m                         Traceback (most recent call last)",
      "\u001b[1;32m<ipython-input-81-e69ea320f5b7>\u001b[0m in \u001b[0;36m<module>\u001b[1;34m\u001b[0m\n\u001b[0;32m      7\u001b[0m \u001b[1;33m\u001b[0m\u001b[0m\n\u001b[0;32m      8\u001b[0m \u001b[1;32mfor\u001b[0m \u001b[0msentence\u001b[0m \u001b[1;32min\u001b[0m \u001b[0mdf\u001b[0m\u001b[1;33m[\u001b[0m\u001b[1;34m'review'\u001b[0m\u001b[1;33m]\u001b[0m\u001b[1;33m:\u001b[0m\u001b[1;33m\u001b[0m\u001b[1;33m\u001b[0m\u001b[0m\n\u001b[1;32m----> 9\u001b[1;33m     \u001b[0mtemp\u001b[0m \u001b[1;33m=\u001b[0m \u001b[0mokt\u001b[0m\u001b[1;33m.\u001b[0m\u001b[0mmorphs\u001b[0m\u001b[1;33m(\u001b[0m\u001b[0msentence\u001b[0m\u001b[1;33m)\u001b[0m\u001b[1;33m\u001b[0m\u001b[1;33m\u001b[0m\u001b[0m\n\u001b[0m\u001b[0;32m     10\u001b[0m     \u001b[0mtemp\u001b[0m \u001b[1;33m=\u001b[0m \u001b[1;33m[\u001b[0m\u001b[0mword\u001b[0m \u001b[1;32mfor\u001b[0m \u001b[0mword\u001b[0m \u001b[1;32min\u001b[0m \u001b[0mtemp\u001b[0m \u001b[1;32mif\u001b[0m \u001b[1;32mnot\u001b[0m \u001b[0mword\u001b[0m \u001b[1;32min\u001b[0m \u001b[0mstop_words\u001b[0m\u001b[1;33m]\u001b[0m\u001b[1;33m\u001b[0m\u001b[1;33m\u001b[0m\u001b[0m\n\u001b[0;32m     11\u001b[0m     \u001b[0mtemp_word\u001b[0m\u001b[1;33m.\u001b[0m\u001b[0mappend\u001b[0m\u001b[1;33m(\u001b[0m\u001b[0mtemp\u001b[0m\u001b[1;33m)\u001b[0m\u001b[1;33m\u001b[0m\u001b[1;33m\u001b[0m\u001b[0m\n",
      "\u001b[1;32m~\\anaconda3\\lib\\site-packages\\konlpy\\tag\\_okt.py\u001b[0m in \u001b[0;36mmorphs\u001b[1;34m(self, phrase, norm, stem)\u001b[0m\n\u001b[0;32m     76\u001b[0m         \u001b[1;34m\"\"\"Parse phrase to morphemes.\"\"\"\u001b[0m\u001b[1;33m\u001b[0m\u001b[1;33m\u001b[0m\u001b[0m\n\u001b[0;32m     77\u001b[0m \u001b[1;33m\u001b[0m\u001b[0m\n\u001b[1;32m---> 78\u001b[1;33m         \u001b[1;32mreturn\u001b[0m \u001b[1;33m[\u001b[0m\u001b[0ms\u001b[0m \u001b[1;32mfor\u001b[0m \u001b[0ms\u001b[0m\u001b[1;33m,\u001b[0m \u001b[0mt\u001b[0m \u001b[1;32min\u001b[0m \u001b[0mself\u001b[0m\u001b[1;33m.\u001b[0m\u001b[0mpos\u001b[0m\u001b[1;33m(\u001b[0m\u001b[0mphrase\u001b[0m\u001b[1;33m,\u001b[0m \u001b[0mnorm\u001b[0m\u001b[1;33m=\u001b[0m\u001b[0mnorm\u001b[0m\u001b[1;33m,\u001b[0m \u001b[0mstem\u001b[0m\u001b[1;33m=\u001b[0m\u001b[0mstem\u001b[0m\u001b[1;33m)\u001b[0m\u001b[1;33m]\u001b[0m\u001b[1;33m\u001b[0m\u001b[1;33m\u001b[0m\u001b[0m\n\u001b[0m\u001b[0;32m     79\u001b[0m \u001b[1;33m\u001b[0m\u001b[0m\n\u001b[0;32m     80\u001b[0m     \u001b[1;32mdef\u001b[0m \u001b[0mphrases\u001b[0m\u001b[1;33m(\u001b[0m\u001b[0mself\u001b[0m\u001b[1;33m,\u001b[0m \u001b[0mphrase\u001b[0m\u001b[1;33m)\u001b[0m\u001b[1;33m:\u001b[0m\u001b[1;33m\u001b[0m\u001b[1;33m\u001b[0m\u001b[0m\n",
      "\u001b[1;32m~\\anaconda3\\lib\\site-packages\\konlpy\\tag\\_okt.py\u001b[0m in \u001b[0;36mpos\u001b[1;34m(self, phrase, norm, stem, join)\u001b[0m\n\u001b[0;32m     58\u001b[0m         \"\"\"\n\u001b[0;32m     59\u001b[0m \u001b[1;33m\u001b[0m\u001b[0m\n\u001b[1;32m---> 60\u001b[1;33m         tokens = self.jki.tokenize(\n\u001b[0m\u001b[0;32m     61\u001b[0m                     \u001b[0mphrase\u001b[0m\u001b[1;33m,\u001b[0m\u001b[1;33m\u001b[0m\u001b[1;33m\u001b[0m\u001b[0m\n\u001b[0;32m     62\u001b[0m                     \u001b[0mjpype\u001b[0m\u001b[1;33m.\u001b[0m\u001b[0mjava\u001b[0m\u001b[1;33m.\u001b[0m\u001b[0mlang\u001b[0m\u001b[1;33m.\u001b[0m\u001b[0mBoolean\u001b[0m\u001b[1;33m(\u001b[0m\u001b[0mnorm\u001b[0m\u001b[1;33m)\u001b[0m\u001b[1;33m,\u001b[0m\u001b[1;33m\u001b[0m\u001b[1;33m\u001b[0m\u001b[0m\n",
      "\u001b[1;31mKeyboardInterrupt\u001b[0m: "
     ]
    }
   ],
   "source": [
    "from konlpy.tag import Okt\n",
    "\n",
    "okt = Okt()\n",
    "temp_word = []\n",
    "stop_words = ['의','가','이','은','들','는','좀','잘','걍','과','도','를','으로','자','에','와',\n",
    "              '한','하다', '적', '인', '으로도', '끼리', '을', '까지', '에게도', '이니', '만으로', '이다']\n",
    "\n",
    "for sentence in df['review']:\n",
    "    temp = okt.morphs(sentence)\n",
    "    temp = [word for word in temp if not word in stop_words]\n",
    "    temp_word.append(temp)\n",
    "    \n",
    "temp_word[:5]"
   ]
  },
  {
   "cell_type": "markdown",
   "id": "919dc2a5",
   "metadata": {},
   "source": [
    "## 정수 인코딩"
   ]
  },
  {
   "cell_type": "code",
   "execution_count": 82,
   "id": "1bf16c71",
   "metadata": {},
   "outputs": [],
   "source": [
    "from tensorflow.keras.preprocessing.text import Tokenizer\n",
    "from tensorflow.keras.preprocessing.sequence import pad_sequences\n",
    "\n",
    "tokenizer = Tokenizer()\n",
    "tokenizer.fit_on_texts(temp_word)"
   ]
  },
  {
   "cell_type": "markdown",
   "id": "b7f1325f",
   "metadata": {},
   "source": [
    "* 빈도 수가 적은 단어들 삭제하기"
   ]
  },
  {
   "cell_type": "code",
   "execution_count": 83,
   "id": "888063dd",
   "metadata": {},
   "outputs": [
    {
     "name": "stdout",
     "output_type": "stream",
     "text": [
      "9060\n",
      "3073\n",
      "[[43, 537, 5, 1844, 837], [612, 315, 25, 479, 1, 137, 1012, 10, 1013], [284, 1311, 1845, 1846, 263, 2]]\n",
      "[0 1 0 ... 0 1 0]\n"
     ]
    }
   ],
   "source": [
    "threshold = 2\n",
    "total_count = len(tokenizer.word_index)\n",
    "print(total_count)\n",
    "low_count = 0\n",
    "\n",
    "for key, value in tokenizer.word_counts.items():\n",
    "    if value < threshold:\n",
    "        low_count += 1\n",
    "        \n",
    "vocab_size = total_count-low_count+1\n",
    "print(vocab_size)\n",
    "\n",
    "tokenizer = Tokenizer(vocab_size)\n",
    "tokenizer.fit_on_texts(temp_word)\n",
    "temp_word = tokenizer.texts_to_sequences(temp_word)\n",
    "print(temp_word[:3])\n",
    "\n",
    "temp_positive = np.array(df['positive'])\n",
    "print(temp_positive)"
   ]
  },
  {
   "cell_type": "markdown",
   "id": "e61f11b3",
   "metadata": {},
   "source": [
    "* 빈 단어 제거"
   ]
  },
  {
   "cell_type": "code",
   "execution_count": 39,
   "id": "b73eaab8",
   "metadata": {},
   "outputs": [
    {
     "name": "stdout",
     "output_type": "stream",
     "text": [
      "1091\n",
      "145091\n",
      "<class 'numpy.ndarray'>\n",
      "[0 1 0 ... 0 1 0]\n"
     ]
    },
    {
     "name": "stderr",
     "output_type": "stream",
     "text": [
      "C:\\Users\\qwe\\anaconda3\\lib\\site-packages\\numpy\\core\\_asarray.py:83: VisibleDeprecationWarning: Creating an ndarray from ragged nested sequences (which is a list-or-tuple of lists-or-tuples-or ndarrays with different lengths or shapes) is deprecated. If you meant to do this, you must specify 'dtype=object' when creating the ndarray\n",
      "  return array(a, dtype, copy=False, order=order)\n"
     ]
    }
   ],
   "source": [
    "drop_word = [idx for idx, sentence in enumerate(temp_word) if len(sentence) < 1]\n",
    "print(len(drop_word))\n",
    "\n",
    "temp_word = np.delete(temp_word, drop_word, axis=0)\n",
    "temp_positive = np.delete(temp_positive, drop_word, axis=0)\n",
    "print(len(temp_word))\n",
    "print(type(temp_word))\n",
    "print(temp_positive)"
   ]
  },
  {
   "cell_type": "markdown",
   "id": "2e059241",
   "metadata": {},
   "source": [
    "* 서로 다른 길이의 리뷰를 같은 길이로 바꿔주는 작업"
   ]
  },
  {
   "cell_type": "code",
   "execution_count": 40,
   "id": "2c40c5d4",
   "metadata": {},
   "outputs": [
    {
     "name": "stdout",
     "output_type": "stream",
     "text": [
      "68\n",
      "10.545726475108724\n"
     ]
    },
    {
     "data": {
      "image/png": "[encoded data removed]",
      "text/plain": [
       "<Figure size 432x288 with 1 Axes>"
      ]
     },
     "metadata": {
      "needs_background": "light"
     },
     "output_type": "display_data"
    }
   ],
   "source": [
    "plt.hist([len(s) for s in temp_word], bins=50)\n",
    "print(max(len(i) for i in temp_word))\n",
    "print(sum(map(len, temp_word))/len(temp_word))"
   ]
  },
  {
   "cell_type": "code",
   "execution_count": 41,
   "id": "7f058d73",
   "metadata": {},
   "outputs": [
    {
     "name": "stdout",
     "output_type": "stream",
     "text": [
      "93.22425236575667\n"
     ]
    }
   ],
   "source": [
    "def per_sentence(max_len: int, word: list):\n",
    "    count = 0\n",
    "    for s in word:\n",
    "        if len(s) < max_len:\n",
    "            count += 1\n",
    "    print((count/len(word))*100)\n",
    "    \n",
    "max_len = 28\n",
    "per_sentence(max_len, temp_word)"
   ]
  },
  {
   "cell_type": "code",
   "execution_count": 42,
   "id": "4faedc7a",
   "metadata": {},
   "outputs": [
    {
     "name": "stdout",
     "output_type": "stream",
     "text": [
      "[[    0     0     0 ...     6  6588   619]\n",
      " [    0     0     0 ...   933  6026 25774]\n",
      " [    0     0     0 ... 12018   184     3]\n",
      " ...\n",
      " [    0     0     0 ... 15111 15000 16873]\n",
      " [    0     0     0 ... 26536   493 10751]\n",
      " [    0     0     0 ...    44  2878     1]]\n"
     ]
    }
   ],
   "source": [
    "temp_word = pad_sequences(temp_word, maxlen=max_len)\n",
    "print(temp_word)"
   ]
  },
  {
   "cell_type": "markdown",
   "id": "95352bb6",
   "metadata": {},
   "source": [
    "## 감정분석 머신러닝"
   ]
  },
  {
   "cell_type": "markdown",
   "id": "01e65a3b",
   "metadata": {},
   "source": [
    "* 데이터 학습"
   ]
  },
  {
   "cell_type": "code",
   "execution_count": 84,
   "id": "aa6340ed",
   "metadata": {},
   "outputs": [],
   "source": [
    "from tensorflow.keras.layers import Embedding, Dense, LSTM\n",
    "from tensorflow.keras.models import Sequential\n",
    "from tensorflow.keras.models import load_model, save_model\n",
    "from tensorflow.keras.callbacks import EarlyStopping, ModelCheckpoint"
   ]
  },
  {
   "cell_type": "code",
   "execution_count": 44,
   "id": "87b97970",
   "metadata": {},
   "outputs": [],
   "source": [
    "model = Sequential()\n",
    "model.add(Embedding(vocab_size, 100, input_length=max_len, mask_zero=True))\n",
    "model.add(LSTM(128))\n",
    "model.add(Dense(1, activation='sigmoid'))"
   ]
  },
  {
   "cell_type": "code",
   "execution_count": 45,
   "id": "87a78e9e",
   "metadata": {},
   "outputs": [],
   "source": [
    "es = EarlyStopping(monitor='val_loss', mode='min', verbose=1, patience=4)\n",
    "mc = ModelCheckpoint('model.h5', monitor='val_acc', mode='max', verbose=1, save_best_only=True)"
   ]
  },
  {
   "cell_type": "code",
   "execution_count": 46,
   "id": "9493d479",
   "metadata": {},
   "outputs": [
    {
     "name": "stdout",
     "output_type": "stream",
     "text": [
      "Epoch 1/60\n",
      "1935/1935 [==============================] - 73s 36ms/step - loss: 0.3915 - acc: 0.8225 - val_loss: 0.3604 - val_acc: 0.8412\n",
      "\n",
      "Epoch 00001: val_acc improved from -inf to 0.84124, saving model to model.h5\n",
      "Epoch 2/60\n",
      "1935/1935 [==============================] - 71s 37ms/step - loss: 0.3196 - acc: 0.8632 - val_loss: 0.3300 - val_acc: 0.8564\n",
      "\n",
      "Epoch 00002: val_acc improved from 0.84124 to 0.85637, saving model to model.h5\n",
      "Epoch 3/60\n",
      "1935/1935 [==============================] - 68s 35ms/step - loss: 0.2832 - acc: 0.8824 - val_loss: 0.3237 - val_acc: 0.8595\n",
      "\n",
      "Epoch 00003: val_acc improved from 0.85637 to 0.85951, saving model to model.h5\n",
      "Epoch 4/60\n",
      "1935/1935 [==============================] - 69s 36ms/step - loss: 0.2585 - acc: 0.8953 - val_loss: 0.3321 - val_acc: 0.8607\n",
      "\n",
      "Epoch 00004: val_acc improved from 0.85951 to 0.86071, saving model to model.h5\n",
      "Epoch 5/60\n",
      "1935/1935 [==============================] - 70s 36ms/step - loss: 0.2409 - acc: 0.9042 - val_loss: 0.3294 - val_acc: 0.8602\n",
      "\n",
      "Epoch 00005: val_acc did not improve from 0.86071\n",
      "Epoch 6/60\n",
      "1935/1935 [==============================] - 67s 35ms/step - loss: 0.2248 - acc: 0.9112 - val_loss: 0.3398 - val_acc: 0.8564\n",
      "\n",
      "Epoch 00006: val_acc did not improve from 0.86071\n",
      "Epoch 7/60\n",
      "1935/1935 [==============================] - 70s 36ms/step - loss: 0.2086 - acc: 0.9184 - val_loss: 0.3547 - val_acc: 0.8542\n",
      "\n",
      "Epoch 00007: val_acc did not improve from 0.86071\n",
      "Epoch 00007: early stopping\n"
     ]
    }
   ],
   "source": [
    "model.compile(optimizer='rmsprop', loss='binary_crossentropy', metrics=['acc'])\n",
    "history = model.fit(temp_word, temp_positive, epochs=60, callbacks=[es, mc], batch_size=60, validation_split=0.2)"
   ]
  },
  {
   "cell_type": "markdown",
   "id": "7d82767c",
   "metadata": {},
   "source": [
    "* 학습된 모델 로드"
   ]
  },
  {
   "cell_type": "code",
   "execution_count": 47,
   "id": "2bfe0f90",
   "metadata": {},
   "outputs": [],
   "source": [
    "loaded_model = load_model('model.h5')\n",
    "# print(loaded_model.evaluate(temp_word, temp_positive))"
   ]
  },
  {
   "cell_type": "markdown",
   "id": "cfb650ab",
   "metadata": {},
   "source": [
    "* 모델 테스트"
   ]
  },
  {
   "cell_type": "code",
   "execution_count": 49,
   "id": "8e382f8b",
   "metadata": {},
   "outputs": [
    {
     "data": {
      "text/plain": [
       "[189054, 189463, 35178, 192883, 68934]"
      ]
     },
     "execution_count": 49,
     "metadata": {},
     "output_type": "execute_result"
    }
   ],
   "source": [
    "codes = [genre for genre in genre_df['영화id']]\n",
    "codes"
   ]
  },
  {
   "cell_type": "code",
   "execution_count": 50,
   "id": "5f024153",
   "metadata": {},
   "outputs": [],
   "source": [
    "def get_review(code):\n",
    "        for num,i in enumerate(code):\n",
    "            reviews=[]\n",
    "            grades=[]\n",
    "            for p in range(1,10):\n",
    "                url='https://movie.naver.com/movie/bi/mi/pointWriteFormList.naver?code={}&type=after&isActualPointWriteExecute=false&isMileageSubscriptionAlready=false&isMileageSubscriptionReject=false&page={}'.format(i, p)            \n",
    "                res = requests.get(url)\n",
    "                soup = BeautifulSoup(res.text, 'lxml')\n",
    "                review_lists=soup.find_all('li')[6:]\n",
    "\n",
    "                for idx,j in enumerate(review_lists):\n",
    "                    review=j.find('span', id=\"_filtered_ment_{}\".format(idx)).get_text().strip()\n",
    "                    grade=int(j.find('div',class_=\"star_score\").get_text())\n",
    "                    if '' != review and review not in reviews:\n",
    "                        reviews.append(review)\n",
    "                        grades.append(grade)\n",
    "\n",
    "            globals()['review_list{}'.format(num+1)]=reviews\n",
    "            globals()['grade_list{}'.format(num+1)]=grades\n",
    "        reviews_lists=[review_list1,review_list2,review_list3,review_list4,review_list5]\n",
    "        grades_lists=[grade_list1,grade_list2,grade_list3,grade_list4,grade_list5]\n",
    "        return reviews_lists, grades_lists"
   ]
  },
  {
   "cell_type": "markdown",
   "id": "31b21f81",
   "metadata": {},
   "source": [
    "- index에 맞춰 영화 네티즌의 리뷰와 평점을 끌어옴"
   ]
  },
  {
   "cell_type": "markdown",
   "id": "ccd694e8",
   "metadata": {},
   "source": [
    "- 그 다음 시각화할 예정"
   ]
  },
  {
   "cell_type": "code",
   "execution_count": 51,
   "id": "7fd68b7a",
   "metadata": {},
   "outputs": [],
   "source": [
    "def get_review(code):\n",
    "    reviews=[]\n",
    "    grades=[]\n",
    "    for p in range(1,10):\n",
    "        url='https://movie.naver.com/movie/bi/mi/pointWriteFormList.naver?code={}&type=after&isActualPointWriteExecute=false&isMileageSubscriptionAlready=false&isMileageSubscriptionReject=false&page={}'.format(code ,p)            \n",
    "        res = requests.get(url)\n",
    "        soup = BeautifulSoup(res.text, 'lxml')\n",
    "        review_lists=soup.find_all('li')[6:]\n",
    "\n",
    "        for idx, j in enumerate(review_lists):\n",
    "            review=j.find('span', id=\"_filtered_ment_{}\".format(idx)).get_text().strip()\n",
    "            grade=int(j.find('div',class_=\"star_score\").get_text())\n",
    "            if '' != review and review not in reviews:\n",
    "                reviews.append(review)\n",
    "                grades.append(grade)\n",
    "    zip_grades_reviews = list(zip(reviews, grades))\n",
    "    return zip_grades_reviews"
   ]
  },
  {
   "cell_type": "code",
   "execution_count": 52,
   "id": "ad1d456c",
   "metadata": {},
   "outputs": [
    {
     "data": {
      "text/plain": [
       "[('시즌 2가 흡인력이 제일 강했습니다', 10),\n",
       " ('마세코 시즌1부터 연속으로 2까지 봤습니다. 감동적인면도 있고 노력하는 사람들의 모습이 너무 멋있었습니다. 백성진씨랑 오보아씨가 가장 기억에 남는군요. 오보아씨처럼 저도 한쪽 청력이 안좋습니다. 저도 오보아씨처럼 장...',\n",
       "  10),\n",
       " ('세계적 셰프심사위원들의 초심조차 되돌아보게 만든 우승자 최강록씨의 순수한 마음가짐 열정과 노력이 있었기에 가능했던, 요리와 감동 그리고 인간미와 열정을 모두 느낄수 있는 있었던 요리프로의 수작이었다. 서바이벌임에도 ...',\n",
       "  9)]"
      ]
     },
     "execution_count": 52,
     "metadata": {},
     "output_type": "execute_result"
    }
   ],
   "source": [
    "get_review(104481)"
   ]
  },
  {
   "cell_type": "code",
   "execution_count": 53,
   "id": "9dfc8f7f",
   "metadata": {},
   "outputs": [],
   "source": [
    "def sentiment_predict(new_sentence):\n",
    "    \n",
    "    new_sentence = okt.morphs(new_sentence) # 토큰화\n",
    "    new_sentence = [word for word in new_sentence if not word in stop_words] # 불용어 제거\n",
    "    encoded = tokenizer.texts_to_sequences([new_sentence]) # 정수 인코딩\n",
    "    pad_new = pad_sequences(encoded, maxlen = max_len) # 패딩\n",
    "    score = float(loaded_model.predict(pad_new)) # 예측\n",
    "    if(score > 0.5):\n",
    "        return str(round(score * 100, 2))+' 긍정'\n",
    "    else:\n",
    "        return str(round((1 - score) * 100, 2)) + ' 부정'"
   ]
  },
  {
   "cell_type": "code",
   "execution_count": 54,
   "id": "b07d4f32",
   "metadata": {},
   "outputs": [],
   "source": [
    "positive = []\n",
    "negative = []\n",
    "ranks = []\n",
    "\n",
    "def get_emotion(code):\n",
    "    movie = get_review(code)\n",
    "    for review, rank in movie:\n",
    "        emotion = sentiment_predict(review)\n",
    "        if '긍정' in emotion:\n",
    "            emotion = emotion.replace('긍정', '')\n",
    "            positive.append(emotion)\n",
    "            ranks.append(rank)\n",
    "\n",
    "        else:\n",
    "            emotion = emotion.replace('부정', '')\n",
    "            negative.append(emotion)\n",
    "            ranks.append(rank)\n",
    "            \n",
    "    return positive, negative, ranks"
   ]
  },
  {
   "cell_type": "code",
   "execution_count": 55,
   "id": "8bfff194",
   "metadata": {},
   "outputs": [
    {
     "data": {
      "text/plain": [
       "(['99.36 ',\n",
       "  '95.32 ',\n",
       "  '99.47 ',\n",
       "  '97.52 ',\n",
       "  '93.59 ',\n",
       "  '66.8 ',\n",
       "  '99.45 ',\n",
       "  '99.59 ',\n",
       "  '99.56 ',\n",
       "  '99.28 ',\n",
       "  '57.27 ',\n",
       "  '97.38 ',\n",
       "  '97.97 ',\n",
       "  '92.62 ',\n",
       "  '99.43 ',\n",
       "  '98.69 ',\n",
       "  '99.65 ',\n",
       "  '98.71 ',\n",
       "  '74.84 ',\n",
       "  '99.76 ',\n",
       "  '99.14 ',\n",
       "  '98.37 ',\n",
       "  '98.9 ',\n",
       "  '99.79 ',\n",
       "  '98.59 ',\n",
       "  '98.32 ',\n",
       "  '99.78 ',\n",
       "  '99.31 ',\n",
       "  '99.78 ',\n",
       "  '99.73 ',\n",
       "  '53.64 ',\n",
       "  '93.05 ',\n",
       "  '72.44 ',\n",
       "  '99.31 ',\n",
       "  '99.12 ',\n",
       "  '99.52 ',\n",
       "  '98.44 ',\n",
       "  '95.64 ',\n",
       "  '99.48 ',\n",
       "  '99.54 ',\n",
       "  '95.16 ',\n",
       "  '99.75 ',\n",
       "  '99.01 ',\n",
       "  '98.75 ',\n",
       "  '93.18 ',\n",
       "  '97.45 ',\n",
       "  '99.16 ',\n",
       "  '99.58 ',\n",
       "  '97.69 ',\n",
       "  '96.56 ',\n",
       "  '98.98 ',\n",
       "  '99.53 ',\n",
       "  '97.63 ',\n",
       "  '57.5 ',\n",
       "  '62.06 ',\n",
       "  '86.72 ',\n",
       "  '97.57 ',\n",
       "  '82.44 ',\n",
       "  '99.64 ',\n",
       "  '69.34 ',\n",
       "  '95.71 ',\n",
       "  '99.4 ',\n",
       "  '99.13 ',\n",
       "  '99.59 ',\n",
       "  '79.22 ',\n",
       "  '99.62 ',\n",
       "  '99.0 ',\n",
       "  '99.44 ',\n",
       "  '99.53 ',\n",
       "  '95.39 ',\n",
       "  '97.47 ',\n",
       "  '99.03 ',\n",
       "  '97.52 ',\n",
       "  '99.55 ',\n",
       "  '98.82 ',\n",
       "  '99.57 ',\n",
       "  '96.77 ',\n",
       "  '99.77 ',\n",
       "  '99.71 '],\n",
       " ['84.26 ',\n",
       "  '98.78 ',\n",
       "  '51.53 ',\n",
       "  '95.43 ',\n",
       "  '79.03 ',\n",
       "  '91.87 ',\n",
       "  '98.81 ',\n",
       "  '76.52 ',\n",
       "  '91.45 ',\n",
       "  '76.23 ',\n",
       "  '64.08 '],\n",
       " [10,\n",
       "  10,\n",
       "  8,\n",
       "  8,\n",
       "  10,\n",
       "  10,\n",
       "  10,\n",
       "  10,\n",
       "  10,\n",
       "  10,\n",
       "  10,\n",
       "  10,\n",
       "  10,\n",
       "  10,\n",
       "  10,\n",
       "  10,\n",
       "  9,\n",
       "  10,\n",
       "  10,\n",
       "  10,\n",
       "  10,\n",
       "  10,\n",
       "  10,\n",
       "  10,\n",
       "  10,\n",
       "  10,\n",
       "  10,\n",
       "  10,\n",
       "  10,\n",
       "  10,\n",
       "  10,\n",
       "  10,\n",
       "  10,\n",
       "  10,\n",
       "  10,\n",
       "  10,\n",
       "  8,\n",
       "  10,\n",
       "  10,\n",
       "  10,\n",
       "  10,\n",
       "  10,\n",
       "  10,\n",
       "  10,\n",
       "  10,\n",
       "  10,\n",
       "  9,\n",
       "  10,\n",
       "  10,\n",
       "  10,\n",
       "  10,\n",
       "  10,\n",
       "  10,\n",
       "  10,\n",
       "  10,\n",
       "  8,\n",
       "  10,\n",
       "  10,\n",
       "  9,\n",
       "  9,\n",
       "  10,\n",
       "  8,\n",
       "  10,\n",
       "  10,\n",
       "  9,\n",
       "  10,\n",
       "  10,\n",
       "  8,\n",
       "  10,\n",
       "  10,\n",
       "  10,\n",
       "  6,\n",
       "  10,\n",
       "  10,\n",
       "  10,\n",
       "  10,\n",
       "  10,\n",
       "  10,\n",
       "  10,\n",
       "  10,\n",
       "  10,\n",
       "  10,\n",
       "  10,\n",
       "  10,\n",
       "  10,\n",
       "  10,\n",
       "  10,\n",
       "  10,\n",
       "  10,\n",
       "  10])"
      ]
     },
     "execution_count": 55,
     "metadata": {},
     "output_type": "execute_result"
    }
   ],
   "source": [
    "get_emotion(71081)"
   ]
  },
  {
   "cell_type": "code",
   "execution_count": 56,
   "id": "433ec7f1",
   "metadata": {},
   "outputs": [
    {
     "data": {
      "text/plain": [
       "[79, 11]"
      ]
     },
     "execution_count": 56,
     "metadata": {},
     "output_type": "execute_result"
    }
   ],
   "source": [
    "x = ['긍정', '부정']\n",
    "y = [len(positive), len(negative)]\n",
    "y"
   ]
  },
  {
   "cell_type": "code",
   "execution_count": 57,
   "id": "17b51235",
   "metadata": {},
   "outputs": [
    {
     "data": {
      "text/plain": [
       "10    78\n",
       "8      6\n",
       "9      5\n",
       "6      1\n",
       "Name: 평점, dtype: int64"
      ]
     },
     "execution_count": 57,
     "metadata": {},
     "output_type": "execute_result"
    }
   ],
   "source": [
    "emotion_review = positive+negative\n",
    "\n",
    "data = pd.DataFrame({'댓글':emotion_review, '평점':ranks})\n",
    "rate = data['평점'].value_counts()\n",
    "rate"
   ]
  },
  {
   "cell_type": "code",
   "execution_count": 58,
   "id": "04e19096",
   "metadata": {},
   "outputs": [],
   "source": [
    "# import matplotlib.pyplot as plt\n",
    "# from matplotlib.figure import Figure\n",
    "\n",
    "\n",
    "# figure: Figure = plt.figure()\n",
    "# ax1 = figure.add_subplot(2, 2, 1, xlabel='emotion', ylabel='count')\n",
    "# ax2 = figure.add_subplot(2, 2, 2)\n",
    "# ax3 = figure.add_subplot(2, 2, 3, xlabel='rank', ylabel='count')\n",
    "# xs = x\n",
    "# ys = y\n",
    "# ax1.bar(xs, ys)\n",
    "# ax2.pie(ys, labels=xs, autopct='%.1f%%')\n",
    "# ax3.bar(rate.index, rate.values)"
   ]
  },
  {
   "cell_type": "code",
   "execution_count": 66,
   "id": "a9bf3d76",
   "metadata": {},
   "outputs": [
    {
     "data": {
      "text/plain": [
       "{'제목': ['헤로니모', '몽마르트 파파', '볼링 포 콜럼바인', '마르지엘라', '우린 액션배우다'],\n",
       " '장르': ['다큐멘터리', '다큐멘터리', '다큐멘터리', '다큐멘터리', '다큐멘터리'],\n",
       " '평점': [9.46, 9.46, 9.23, 9.11, 8.95]}"
      ]
     },
     "execution_count": 66,
     "metadata": {},
     "output_type": "execute_result"
    }
   ],
   "source": [
    "genre_dict = genre_df.loc[:, '제목':'평점'].to_dict('list')\n",
    "genre_dict"
   ]
  },
  {
   "cell_type": "code",
   "execution_count": 60,
   "id": "c19425f8",
   "metadata": {},
   "outputs": [],
   "source": [
    "column_idx_lookup = {'제목': 0, '장르': 1, '평점': 2}"
   ]
  },
  {
   "cell_type": "code",
   "execution_count": 61,
   "id": "4ba3ab44",
   "metadata": {},
   "outputs": [
    {
     "name": "stdout",
     "output_type": "stream",
     "text": [
      "<class 'str'>\n",
      "<class 'str'>\n",
      "<class 'float'>\n"
     ]
    }
   ],
   "source": [
    "for v in genre_dict.values():\n",
    "    print(type(v[0]))    "
   ]
  },
  {
   "cell_type": "code",
   "execution_count": 62,
   "id": "1709dfe6",
   "metadata": {},
   "outputs": [],
   "source": [
    "import sys\n",
    "from PyQt5 import uic, QtWidgets\n",
    "from PyQt5.QtGui import QPixmap\n",
    "from PyQt5.QtWidgets import *\n",
    "from PyQt5.QtCore import *"
   ]
  },
  {
   "cell_type": "code",
   "execution_count": 65,
   "id": "b25a88e7",
   "metadata": {},
   "outputs": [
    {
     "ename": "TypeError",
     "evalue": "insertRow(self, int): argument 1 has unexpected type 'str'",
     "output_type": "error",
     "traceback": [
      "\u001b[1;31m---------------------------------------------------------------------------\u001b[0m",
      "\u001b[1;31mTypeError\u001b[0m                                 Traceback (most recent call last)",
      "\u001b[1;32m<ipython-input-65-5f058f4c6c06>\u001b[0m in \u001b[0;36m<module>\u001b[1;34m\u001b[0m\n\u001b[0;32m     54\u001b[0m \u001b[1;32mif\u001b[0m \u001b[0m__name__\u001b[0m \u001b[1;33m==\u001b[0m \u001b[1;34m'__main__'\u001b[0m\u001b[1;33m:\u001b[0m\u001b[1;33m\u001b[0m\u001b[1;33m\u001b[0m\u001b[0m\n\u001b[0;32m     55\u001b[0m     \u001b[0mapp\u001b[0m \u001b[1;33m=\u001b[0m \u001b[0mQtWidgets\u001b[0m\u001b[1;33m.\u001b[0m\u001b[0mQApplication\u001b[0m\u001b[1;33m(\u001b[0m\u001b[0msys\u001b[0m\u001b[1;33m.\u001b[0m\u001b[0margv\u001b[0m\u001b[1;33m)\u001b[0m\u001b[1;33m\u001b[0m\u001b[1;33m\u001b[0m\u001b[0m\n\u001b[1;32m---> 56\u001b[1;33m     \u001b[0mwindow\u001b[0m \u001b[1;33m=\u001b[0m \u001b[0mWindowMovie\u001b[0m\u001b[1;33m(\u001b[0m\u001b[1;33m)\u001b[0m\u001b[1;33m\u001b[0m\u001b[1;33m\u001b[0m\u001b[0m\n\u001b[0m\u001b[0;32m     57\u001b[0m     \u001b[0mapp\u001b[0m\u001b[1;33m.\u001b[0m\u001b[0mexec\u001b[0m\u001b[1;33m(\u001b[0m\u001b[1;33m)\u001b[0m\u001b[1;33m\u001b[0m\u001b[1;33m\u001b[0m\u001b[0m\n",
      "\u001b[1;32m<ipython-input-65-5f058f4c6c06>\u001b[0m in \u001b[0;36m__init__\u001b[1;34m(self)\u001b[0m\n\u001b[0;32m      9\u001b[0m         \u001b[0mself\u001b[0m\u001b[1;33m.\u001b[0m\u001b[0msetupUi\u001b[0m\u001b[1;33m(\u001b[0m\u001b[0mself\u001b[0m\u001b[1;33m)\u001b[0m\u001b[1;33m\u001b[0m\u001b[1;33m\u001b[0m\u001b[0m\n\u001b[0;32m     10\u001b[0m \u001b[1;33m\u001b[0m\u001b[0m\n\u001b[1;32m---> 11\u001b[1;33m         \u001b[0mself\u001b[0m\u001b[1;33m.\u001b[0m\u001b[0mrefresh_table\u001b[0m\u001b[1;33m(\u001b[0m\u001b[1;33m)\u001b[0m\u001b[1;33m\u001b[0m\u001b[1;33m\u001b[0m\u001b[0m\n\u001b[0m\u001b[0;32m     12\u001b[0m \u001b[1;33m\u001b[0m\u001b[0m\n\u001b[0;32m     13\u001b[0m         \u001b[0mself\u001b[0m\u001b[1;33m.\u001b[0m\u001b[0minit_signal\u001b[0m\u001b[1;33m(\u001b[0m\u001b[1;33m)\u001b[0m\u001b[1;33m\u001b[0m\u001b[1;33m\u001b[0m\u001b[0m\n",
      "\u001b[1;32m<ipython-input-65-5f058f4c6c06>\u001b[0m in \u001b[0;36mrefresh_table\u001b[1;34m(self)\u001b[0m\n\u001b[0;32m     23\u001b[0m \u001b[1;33m\u001b[0m\u001b[0m\n\u001b[0;32m     24\u001b[0m         \u001b[1;32mfor\u001b[0m \u001b[0mr\u001b[0m\u001b[1;33m,\u001b[0m \u001b[0mrow_datum\u001b[0m \u001b[1;32min\u001b[0m \u001b[0mgenre_dict\u001b[0m\u001b[1;33m.\u001b[0m\u001b[0mitems\u001b[0m\u001b[1;33m(\u001b[0m\u001b[1;33m)\u001b[0m\u001b[1;33m:\u001b[0m\u001b[1;33m\u001b[0m\u001b[1;33m\u001b[0m\u001b[0m\n\u001b[1;32m---> 25\u001b[1;33m             \u001b[0mself\u001b[0m\u001b[1;33m.\u001b[0m\u001b[0mtablewidget_movie_list\u001b[0m\u001b[1;33m.\u001b[0m\u001b[0minsertRow\u001b[0m\u001b[1;33m(\u001b[0m\u001b[0mr\u001b[0m\u001b[1;33m)\u001b[0m\u001b[1;33m\u001b[0m\u001b[1;33m\u001b[0m\u001b[0m\n\u001b[0m\u001b[0;32m     26\u001b[0m             \u001b[1;32mfor\u001b[0m \u001b[0mc\u001b[0m\u001b[1;33m,\u001b[0m \u001b[0mcol_datum\u001b[0m \u001b[1;32min\u001b[0m \u001b[0menumerate\u001b[0m\u001b[1;33m(\u001b[0m\u001b[0mrow_datum\u001b[0m\u001b[1;33m)\u001b[0m\u001b[1;33m:\u001b[0m\u001b[1;33m\u001b[0m\u001b[1;33m\u001b[0m\u001b[0m\n\u001b[0;32m     27\u001b[0m                 \u001b[0mitem\u001b[0m \u001b[1;33m=\u001b[0m \u001b[0mQTableWidgetItem\u001b[0m\u001b[1;33m(\u001b[0m\u001b[1;33m)\u001b[0m\u001b[1;33m\u001b[0m\u001b[1;33m\u001b[0m\u001b[0m\n",
      "\u001b[1;31mTypeError\u001b[0m: insertRow(self, int): argument 1 has unexpected type 'str'"
     ]
    }
   ],
   "source": [
    "from process_visualize import MovieVisualize\n",
    "\n",
    "FORM_CLASS = uic.loadUiType('movie_data_visualize.ui')[0]\n",
    "\n",
    "\n",
    "class WindowMovie(QMainWindow, FORM_CLASS):\n",
    "    def __init__(self):\n",
    "        super().__init__()\n",
    "        self.setupUi(self)\n",
    "        \n",
    "        self.refresh_table()\n",
    "        \n",
    "        self.init_signal()\n",
    "        self.show()\n",
    "    \n",
    "    def init_signal(self):\n",
    "        self.tablewidget_movie_list.itemClicked.connect(self.on_clicked_refresh_chart)\n",
    "    \n",
    "    def refresh_table(self):\n",
    "        self.tablewidget_movie_list: QTableWidget\n",
    "        self.tablewidget_movie_list.setRowCount(0)\n",
    "        \n",
    "        \n",
    "        for r, row_datum in genre_dict.items():\n",
    "            self.tablewidget_movie_list.insertRow(r)\n",
    "            for c, col_datum in enumerate(row_datum):\n",
    "                item = QTableWidgetItem()\n",
    "                item.setTextAlignment(Qt.AlignVCenter | Qt.AlignRight)\n",
    "                item.setData(Qt.DisplayRole, col_datum)\n",
    "                self.tablewidget_movie_list.setItem(r, c, item)\n",
    "\n",
    "        if resize_columns == True:\n",
    "            for c in range(self.tablewidget_movie_list.columnCount()):\n",
    "                self.tablewidget_movie_list.resizeColumnsToContents(c)\n",
    "                width = self.tablewidget_movie_list.columnWidth(c)\n",
    "                self.tablewidget_movie_list.setColumnWidth(c, width+30)\n",
    "        \n",
    "        if resize_rows == True:\n",
    "            for row in range(self.tablewidget_movie_list.rowCount()):\n",
    "                self.tablewidget_movie_list.resizeRowsToContents(rowCount)\n",
    "\n",
    "    def on_clicked_refresh_chart(self, item: QTableWidgetItem):\n",
    "        row = self.tablewidget_movie_list.currentIndex().row()\n",
    "        column = self.tablewidget_movie_list.currentIndex().column()\n",
    "        print(row, column, item)\n",
    "        \n",
    "#         MovieVisualize.run(rate, x, y, 'movie_visualize.png')\n",
    "\n",
    "#         self.pixmap = QPixmap()\n",
    "#         self.pixmap.load('movie_visualize.png')\n",
    "#         self.movie_label.setPixmap(self.pixmap)\n",
    "    \n",
    "        \n",
    "if __name__ == '__main__':\n",
    "    app = QtWidgets.QApplication(sys.argv)\n",
    "    window = WindowMovie()\n",
    "    app.exec()"
   ]
  },
  {
   "cell_type": "code",
   "execution_count": null,
   "id": "58723cb0",
   "metadata": {},
   "outputs": [],
   "source": []
  }
 ],
 "metadata": {
  "kernelspec": {
   "display_name": "Python 3",
   "language": "python",
   "name": "python3"
  },
  "language_info": {
   "codemirror_mode": {
    "name": "ipython",
    "version": 3
   },
   "file_extension": ".py",
   "mimetype": "text/x-python",
   "name": "python",
   "nbconvert_exporter": "python",
   "pygments_lexer": "ipython3",
   "version": "3.8.8"
  },
  "toc": {
   "base_numbering": 1,
   "nav_menu": {},
   "number_sections": true,
   "sideBar": true,
   "skip_h1_title": false,
   "title_cell": "Table of Contents",
   "title_sidebar": "Contents",
   "toc_cell": false,
   "toc_position": {},
   "toc_section_display": true,
   "toc_window_display": false
  }
 },
 "nbformat": 4,
 "nbformat_minor": 5
}
